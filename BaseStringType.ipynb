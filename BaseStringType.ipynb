{
  "nbformat": 4,
  "nbformat_minor": 0,
  "metadata": {
    "colab": {
      "provenance": [],
      "authorship_tag": "ABX9TyNkLRxmGMAJsLh9147d4JEb",
      "include_colab_link": true
    },
    "kernelspec": {
      "name": "python3",
      "display_name": "Python 3"
    },
    "language_info": {
      "name": "python"
    }
  },
  "cells": [
    {
      "cell_type": "markdown",
      "metadata": {
        "id": "view-in-github",
        "colab_type": "text"
      },
      "source": [
        "<a href=\"https://colab.research.google.com/github/jsb616/pythonStudy25/blob/master/BaseStringType.ipynb\" target=\"_parent\"><img src=\"https://colab.research.google.com/assets/colab-badge.svg\" alt=\"Open In Colab\"/></a>"
      ]
    },
    {
      "cell_type": "markdown",
      "source": [
        "문자열 만드는 4가지 방법\n",
        "\n",
        "1. 큰따옴표로 둘러싸기\n",
        "2. 작은따옴표로 둘러싸기\n",
        "3. 큰따옴표 3개를 연속으로 써서 둘러싸기\n",
        "4. 작은따옴표 3개를 연속으로 써서 둘러싸기"
      ],
      "metadata": {
        "id": "ux2N__oeJ8yL"
      }
    },
    {
      "cell_type": "code",
      "execution_count": null,
      "metadata": {
        "colab": {
          "base_uri": "https://localhost:8080/"
        },
        "id": "WJ24LRjLJb4K",
        "outputId": "a1f8b898-a3ec-49c2-f18a-229cc2322fb4"
      },
      "outputs": [
        {
          "output_type": "stream",
          "name": "stdout",
          "text": [
            "Hello Python\n"
          ]
        }
      ],
      "source": [
        "# 큰따옴표로 둘러싸기\n",
        "print(\"Hello Python\")"
      ]
    },
    {
      "cell_type": "code",
      "source": [
        "# 작은따옴표로 둘러싸기\n",
        "print('apple')"
      ],
      "metadata": {
        "colab": {
          "base_uri": "https://localhost:8080/"
        },
        "id": "0Id7PzosKX5s",
        "outputId": "1927f8a6-446f-417d-8c83-6f88ab52672b"
      },
      "execution_count": null,
      "outputs": [
        {
          "output_type": "stream",
          "name": "stdout",
          "text": [
            "apple\n"
          ]
        }
      ]
    },
    {
      "cell_type": "code",
      "source": [
        "# 큰따옴표 3개 연속으로 둘러싸기\n",
        "print(\"\"\"Hello Python\"\"\")\n",
        "\n",
        "# 작은따옴표 3개 연속으로 둘러싸기\n",
        "print('''apple''')"
      ],
      "metadata": {
        "colab": {
          "base_uri": "https://localhost:8080/"
        },
        "id": "iZHK6-_9KcI6",
        "outputId": "f0fe76ad-8874-40c8-f6cf-a429ce3cd5c0"
      },
      "execution_count": null,
      "outputs": [
        {
          "output_type": "stream",
          "name": "stdout",
          "text": [
            "Hello Python\n",
            "apple\n"
          ]
        }
      ]
    },
    {
      "cell_type": "markdown",
      "source": [
        "문자열 안에 작은따옴표나 큰따옴표를 포함시키고 싶은 경우"
      ],
      "metadata": {
        "id": "YGAFxZi5MWby"
      }
    },
    {
      "cell_type": "code",
      "source": [
        "food = \"Python's favorite food is perl.\"\n",
        "food"
      ],
      "metadata": {
        "colab": {
          "base_uri": "https://localhost:8080/",
          "height": 35
        },
        "id": "ep_nWmzdK5C7",
        "outputId": "73e1c963-6c90-4008-ee2f-4d71fca46b01"
      },
      "execution_count": null,
      "outputs": [
        {
          "output_type": "execute_result",
          "data": {
            "text/plain": [
              "\"Python's favorite food is perl.\""
            ],
            "application/vnd.google.colaboratory.intrinsic+json": {
              "type": "string"
            }
          },
          "metadata": {},
          "execution_count": 12
        }
      ]
    },
    {
      "cell_type": "code",
      "source": [
        "say = '\"Python is very easy.\" he says.'\n",
        "say"
      ],
      "metadata": {
        "colab": {
          "base_uri": "https://localhost:8080/",
          "height": 35
        },
        "id": "CFyFTYjtLcsS",
        "outputId": "d5b0274f-f5e4-4974-e80c-9d37a8d5a717"
      },
      "execution_count": null,
      "outputs": [
        {
          "output_type": "execute_result",
          "data": {
            "text/plain": [
              "'\"Python is very easy.\" he says.'"
            ],
            "application/vnd.google.colaboratory.intrinsic+json": {
              "type": "string"
            }
          },
          "metadata": {},
          "execution_count": 11
        }
      ]
    },
    {
      "cell_type": "code",
      "source": [
        "# 역슬래시를 사용해서 작은따옴표와 큰따옴표를 문자열에 포함시키기\n",
        "food = 'Python\\'s favorite food is perl.'\n",
        "say = \"\\\"Python is very easy.\\\" he says.\"\n",
        "print(food)\n",
        "print(say)"
      ],
      "metadata": {
        "colab": {
          "base_uri": "https://localhost:8080/"
        },
        "id": "m-POvDu1Lpz6",
        "outputId": "2fe18b84-75ce-4e44-ff9e-ab613d9f7e01"
      },
      "execution_count": null,
      "outputs": [
        {
          "output_type": "stream",
          "name": "stdout",
          "text": [
            "Python's favorite food is perl.\n",
            "\"Python is very easy.\" he says.\n"
          ]
        }
      ]
    },
    {
      "cell_type": "markdown",
      "source": [
        "여러 줄인 문자열을 변수에 대입하고 싶을 때"
      ],
      "metadata": {
        "id": "3UFjRw2FMiyL"
      }
    },
    {
      "cell_type": "code",
      "source": [
        "# 줄을 바꾸는 이스케이프 코드 \\n 넣기\n",
        "s1 = \"Life is too short\\nYou need python\"\n",
        "print(s1)"
      ],
      "metadata": {
        "colab": {
          "base_uri": "https://localhost:8080/"
        },
        "id": "iZP74gcxMNg6",
        "outputId": "ecb35f11-846c-4db6-f07e-17a1bc4a4a9f"
      },
      "execution_count": null,
      "outputs": [
        {
          "output_type": "stream",
          "name": "stdout",
          "text": [
            "Life is too short\n",
            "You need python\n"
          ]
        }
      ]
    },
    {
      "cell_type": "code",
      "source": [
        "# 연속된 3개의 작은따옴표 or 큰따옴표 사용하기 <- 여러 줄일 경우 이 방법이 제일 깔끔함\n",
        "s2 = \"\"\"Life is too short\n",
        "You need python\"\"\"\n",
        "s3 = '''Life is too short.\n",
        "You need python.'''\n",
        "\n",
        "print(s2)\n",
        "print(s3)"
      ],
      "metadata": {
        "colab": {
          "base_uri": "https://localhost:8080/"
        },
        "id": "SJ4-SeVGNHc6",
        "outputId": "cfa4a563-f197-4149-e725-6a3b0fd2116f"
      },
      "execution_count": null,
      "outputs": [
        {
          "output_type": "stream",
          "name": "stdout",
          "text": [
            "Life is too short\n",
            "You need python\n",
            "Life is too short.\n",
            "You need python.\n"
          ]
        }
      ]
    },
    {
      "cell_type": "markdown",
      "source": [
        "문자열 연산"
      ],
      "metadata": {
        "id": "v3n5MOv9NwHK"
      }
    },
    {
      "cell_type": "code",
      "source": [
        "# 문자열 더하기\n",
        "a = \"Python\"\n",
        "b = \" is fun!\"\n",
        "print(a + b)"
      ],
      "metadata": {
        "colab": {
          "base_uri": "https://localhost:8080/"
        },
        "id": "Xk2D6pM6NeEK",
        "outputId": "5b60b68e-312b-48ef-c6b3-573acd7dda05"
      },
      "execution_count": null,
      "outputs": [
        {
          "output_type": "stream",
          "name": "stdout",
          "text": [
            "Python is fun!\n"
          ]
        }
      ]
    },
    {
      "cell_type": "code",
      "source": [
        "# 문자열 곱하기\n",
        "c = \"apple\"\n",
        "print(c * 2)"
      ],
      "metadata": {
        "colab": {
          "base_uri": "https://localhost:8080/"
        },
        "id": "4sEEF67jN7bh",
        "outputId": "1a15da05-e24d-43bd-c08e-34eca2452a52"
      },
      "execution_count": null,
      "outputs": [
        {
          "output_type": "stream",
          "name": "stdout",
          "text": [
            "appleapple\n"
          ]
        }
      ]
    },
    {
      "cell_type": "code",
      "source": [
        "print(\"=\" * 50)\n",
        "print(\"My Program\")\n",
        "print(\"=\" * 50)"
      ],
      "metadata": {
        "colab": {
          "base_uri": "https://localhost:8080/"
        },
        "id": "VjKCEe3yOEvJ",
        "outputId": "f62ebc04-53a0-44fc-d4bf-2629deb2617d"
      },
      "execution_count": null,
      "outputs": [
        {
          "output_type": "stream",
          "name": "stdout",
          "text": [
            "==================================================\n",
            "My Program\n",
            "==================================================\n"
          ]
        }
      ]
    },
    {
      "cell_type": "markdown",
      "source": [
        "문자열 길이 구하기\n",
        "\n",
        "len() 함수"
      ],
      "metadata": {
        "id": "BBNKKSwcOY0C"
      }
    },
    {
      "cell_type": "code",
      "source": [
        "a = \"Life is too short\"\n",
        "print(len(a))"
      ],
      "metadata": {
        "colab": {
          "base_uri": "https://localhost:8080/"
        },
        "id": "IxfbIXjXOV6S",
        "outputId": "17393412-2587-478e-a30d-6f9044aae7f2"
      },
      "execution_count": null,
      "outputs": [
        {
          "output_type": "stream",
          "name": "stdout",
          "text": [
            "17\n"
          ]
        }
      ]
    },
    {
      "cell_type": "markdown",
      "source": [
        "문자열 인덱싱 & 슬라이싱"
      ],
      "metadata": {
        "id": "4Wv9z-d-OngL"
      }
    },
    {
      "cell_type": "code",
      "source": [
        "# 문자열 인덱싱\n",
        "# 파이썬은 0부터 숫자를 센다.\n",
        "\n",
        "a = \"Life is too short, You need Python\"\n",
        "print(a[3])"
      ],
      "metadata": {
        "colab": {
          "base_uri": "https://localhost:8080/"
        },
        "id": "yJOoZaXAOl0S",
        "outputId": "e3c14691-a1f8-4351-a6c8-6a4b39e746a7"
      },
      "execution_count": null,
      "outputs": [
        {
          "output_type": "stream",
          "name": "stdout",
          "text": [
            "e\n"
          ]
        }
      ]
    },
    {
      "cell_type": "code",
      "source": [
        "print(a[-0])    # a[-0] == a[0]\n",
        "print(a[-1])"
      ],
      "metadata": {
        "colab": {
          "base_uri": "https://localhost:8080/"
        },
        "id": "ePAFZyDGPCeS",
        "outputId": "1b64a2d7-7f38-4937-b705-3218eae188a8"
      },
      "execution_count": null,
      "outputs": [
        {
          "output_type": "stream",
          "name": "stdout",
          "text": [
            "L\n",
            "n\n"
          ]
        }
      ]
    },
    {
      "cell_type": "code",
      "source": [
        "# 문자열 슬라이싱\n",
        "a = \"Life is too short, You need Python\"\n",
        "print(a[0:4])"
      ],
      "metadata": {
        "colab": {
          "base_uri": "https://localhost:8080/"
        },
        "id": "p8zf8UcQPR76",
        "outputId": "6a676b3f-e45e-464a-9a42-0318fbbd60e2"
      },
      "execution_count": null,
      "outputs": [
        {
          "output_type": "stream",
          "name": "stdout",
          "text": [
            "Life\n"
          ]
        }
      ]
    },
    {
      "cell_type": "code",
      "source": [
        "a[:3]"
      ],
      "metadata": {
        "colab": {
          "base_uri": "https://localhost:8080/",
          "height": 35
        },
        "id": "aerHcxPhP1-Z",
        "outputId": "64d3b3ce-2b17-40ff-ffb6-7df58454bc51"
      },
      "execution_count": null,
      "outputs": [
        {
          "output_type": "execute_result",
          "data": {
            "text/plain": [
              "'Lif'"
            ],
            "application/vnd.google.colaboratory.intrinsic+json": {
              "type": "string"
            }
          },
          "metadata": {},
          "execution_count": 30
        }
      ]
    },
    {
      "cell_type": "code",
      "source": [
        "print(a[0:4])\n",
        "print(a[5:7])\n",
        "print(a[12:17])"
      ],
      "metadata": {
        "colab": {
          "base_uri": "https://localhost:8080/"
        },
        "id": "A_et7VlrP4xh",
        "outputId": "97c526db-a6b2-451a-825d-bd80bdac3476"
      },
      "execution_count": null,
      "outputs": [
        {
          "output_type": "stream",
          "name": "stdout",
          "text": [
            "Life\n",
            "is\n",
            "short\n"
          ]
        }
      ]
    },
    {
      "cell_type": "code",
      "source": [
        "print(a[19:])   # 끝 번호를 생략하면 맨끝까지 출력\n",
        "print(a[:17])   # 시작 번호를 생략하면 맨처음부터 출력"
      ],
      "metadata": {
        "colab": {
          "base_uri": "https://localhost:8080/"
        },
        "id": "_0mBJBM3QDtZ",
        "outputId": "0afe78e9-b07c-4bd2-ee8f-6a579ffa5774"
      },
      "execution_count": null,
      "outputs": [
        {
          "output_type": "stream",
          "name": "stdout",
          "text": [
            "You need Python\n",
            "Life is too short\n"
          ]
        }
      ]
    },
    {
      "cell_type": "code",
      "source": [
        "a[:]   # 문자열 전체 출력"
      ],
      "metadata": {
        "colab": {
          "base_uri": "https://localhost:8080/",
          "height": 35
        },
        "id": "gsyTvDVaQUnb",
        "outputId": "632d7ba5-cec8-4ad7-da26-5e9a0fd8729f"
      },
      "execution_count": null,
      "outputs": [
        {
          "output_type": "execute_result",
          "data": {
            "text/plain": [
              "'Life is too short, You need Python'"
            ],
            "application/vnd.google.colaboratory.intrinsic+json": {
              "type": "string"
            }
          },
          "metadata": {},
          "execution_count": 33
        }
      ]
    },
    {
      "cell_type": "code",
      "source": [
        "# 슬라이싱에서도 인덱싱과 똑같이 - 사용가능\n",
        "a[19:-7]"
      ],
      "metadata": {
        "colab": {
          "base_uri": "https://localhost:8080/",
          "height": 35
        },
        "id": "ViZO_zOyQbKL",
        "outputId": "eb24d3eb-0b01-4192-ea68-ccbe6fabf9e1"
      },
      "execution_count": null,
      "outputs": [
        {
          "output_type": "execute_result",
          "data": {
            "text/plain": [
              "'You need'"
            ],
            "application/vnd.google.colaboratory.intrinsic+json": {
              "type": "string"
            }
          },
          "metadata": {},
          "execution_count": 34
        }
      ]
    },
    {
      "cell_type": "code",
      "source": [
        "# 슬라이싱으로 문자열 나누기\n",
        "a = \"20250226Cold\"\n",
        "date = a[:8]\n",
        "weather = a[8:]\n",
        "\n",
        "print(date)\n",
        "print(weather)"
      ],
      "metadata": {
        "colab": {
          "base_uri": "https://localhost:8080/"
        },
        "id": "tImNzXNDQju5",
        "outputId": "fbc701b4-0b0e-42bc-b4f0-5dfa8aabf743"
      },
      "execution_count": null,
      "outputs": [
        {
          "output_type": "stream",
          "name": "stdout",
          "text": [
            "20250226\n",
            "Cold\n"
          ]
        }
      ]
    },
    {
      "cell_type": "code",
      "source": [
        "a = \"20250226Cold\"\n",
        "year = a[:4]\n",
        "day = a[4:8]\n",
        "weather = a[8:]\n",
        "\n",
        "print(year)\n",
        "print(day)\n",
        "print(weather)"
      ],
      "metadata": {
        "colab": {
          "base_uri": "https://localhost:8080/"
        },
        "id": "ruV85l5TRBa5",
        "outputId": "62013f55-15fa-4267-a0ff-d2dfff6e8148"
      },
      "execution_count": null,
      "outputs": [
        {
          "output_type": "stream",
          "name": "stdout",
          "text": [
            "2025\n",
            "0226\n",
            "Cold\n"
          ]
        }
      ]
    },
    {
      "cell_type": "code",
      "source": [
        "# Pithon을 Python으로 바꾸는 예제\n",
        "\n",
        "x = \"Pithon\"\n",
        "x[1] = 'y'   # 오류 발생 why? 문자열의 요솟값은 바꿀 수 없는 값! 한번 만들어진 객체는 못 바꾼다.\n",
        "print(x)"
      ],
      "metadata": {
        "colab": {
          "base_uri": "https://localhost:8080/",
          "height": 202
        },
        "id": "Pe-chwrURTKZ",
        "outputId": "f5800490-6561-4e9b-e649-5a40c5c9e681"
      },
      "execution_count": null,
      "outputs": [
        {
          "output_type": "error",
          "ename": "TypeError",
          "evalue": "'str' object does not support item assignment",
          "traceback": [
            "\u001b[0;31m---------------------------------------------------------------------------\u001b[0m",
            "\u001b[0;31mTypeError\u001b[0m                                 Traceback (most recent call last)",
            "\u001b[0;32m<ipython-input-40-43f076ceb9b4>\u001b[0m in \u001b[0;36m<cell line: 0>\u001b[0;34m()\u001b[0m\n\u001b[1;32m      2\u001b[0m \u001b[0;34m\u001b[0m\u001b[0m\n\u001b[1;32m      3\u001b[0m \u001b[0mx\u001b[0m \u001b[0;34m=\u001b[0m \u001b[0;34m\"Pithon\"\u001b[0m\u001b[0;34m\u001b[0m\u001b[0;34m\u001b[0m\u001b[0m\n\u001b[0;32m----> 4\u001b[0;31m \u001b[0mx\u001b[0m\u001b[0;34m[\u001b[0m\u001b[0;36m1\u001b[0m\u001b[0;34m]\u001b[0m \u001b[0;34m=\u001b[0m \u001b[0;34m'y'\u001b[0m   \u001b[0;31m# 오류 발생 why? 문자열의 요솟값은 바꿀 수 없는 값! 변경 불가능한 자료형이기 때문\u001b[0m\u001b[0;34m\u001b[0m\u001b[0;34m\u001b[0m\u001b[0m\n\u001b[0m\u001b[1;32m      5\u001b[0m \u001b[0mprint\u001b[0m\u001b[0;34m(\u001b[0m\u001b[0mx\u001b[0m\u001b[0;34m)\u001b[0m\u001b[0;34m\u001b[0m\u001b[0;34m\u001b[0m\u001b[0m\n",
            "\u001b[0;31mTypeError\u001b[0m: 'str' object does not support item assignment"
          ]
        }
      ]
    },
    {
      "cell_type": "code",
      "source": [
        "x = \"Pithon\"\n",
        "y = x[:1] + \"y\" + x[2:]\n",
        "print(y)"
      ],
      "metadata": {
        "colab": {
          "base_uri": "https://localhost:8080/"
        },
        "id": "lFjORgFpRn9B",
        "outputId": "08740563-2122-4dc3-d527-eb08e0aed34d"
      },
      "execution_count": null,
      "outputs": [
        {
          "output_type": "stream",
          "name": "stdout",
          "text": [
            "Python\n"
          ]
        }
      ]
    },
    {
      "cell_type": "markdown",
      "source": [
        "문자열 포매팅 (string formatting)"
      ],
      "metadata": {
        "id": "8QeZLQtPSZmp"
      }
    },
    {
      "cell_type": "code",
      "source": [
        "# 정수 : %d\n",
        "# 부동소수 : %f\n",
        "# 문자열 : %s\n",
        "# 문자 1개 : %c\n",
        "\n",
        "print(\"I eat %d apples.\" % 5)\n",
        "print(\"I eat %s apples.\" % \"five\")\n",
        "\n",
        "number = 3\n",
        "print(\"I eat %d apples.\" % number)"
      ],
      "metadata": {
        "colab": {
          "base_uri": "https://localhost:8080/"
        },
        "id": "Ya2hpjUgSX6x",
        "outputId": "216badf4-1f88-4eb4-9ab1-cf4fc2221bec"
      },
      "execution_count": null,
      "outputs": [
        {
          "output_type": "stream",
          "name": "stdout",
          "text": [
            "I eat 5 apples.\n",
            "I eat five apples.\n",
            "I eat 3 apples.\n"
          ]
        }
      ]
    },
    {
      "cell_type": "code",
      "source": [
        "number = 10\n",
        "day = \"three\"\n",
        "print(\"I ate %d apples, so I was sick for %s days.\" % (number, day))"
      ],
      "metadata": {
        "colab": {
          "base_uri": "https://localhost:8080/"
        },
        "id": "GUdIWXCPTknx",
        "outputId": "0aa3b545-62f6-4d75-cab7-798f5a106427"
      },
      "execution_count": null,
      "outputs": [
        {
          "output_type": "stream",
          "name": "stdout",
          "text": [
            "I ate 10 apples, so I was sick for three days.\n"
          ]
        }
      ]
    },
    {
      "cell_type": "code",
      "source": [
        "# 문자 % 자체를 쓰고 싶을 때는 %%\n",
        "\n",
        "# Error is 98%. 를 출력하고 싶다.\n",
        "\"Error is %d%.\" % 98  # 오류 발생"
      ],
      "metadata": {
        "colab": {
          "base_uri": "https://localhost:8080/",
          "height": 184
        },
        "id": "NpMlT7ZKT3fZ",
        "outputId": "8d0e093b-fd3b-4a23-cee2-3938d2e24ebc"
      },
      "execution_count": null,
      "outputs": [
        {
          "output_type": "error",
          "ename": "ValueError",
          "evalue": "incomplete format",
          "traceback": [
            "\u001b[0;31m---------------------------------------------------------------------------\u001b[0m",
            "\u001b[0;31mValueError\u001b[0m                                Traceback (most recent call last)",
            "\u001b[0;32m<ipython-input-44-075acee5d5eb>\u001b[0m in \u001b[0;36m<cell line: 0>\u001b[0;34m()\u001b[0m\n\u001b[1;32m      1\u001b[0m \u001b[0;31m# %d와 %를 같이 쓰고 싶을 때\u001b[0m\u001b[0;34m\u001b[0m\u001b[0;34m\u001b[0m\u001b[0m\n\u001b[1;32m      2\u001b[0m \u001b[0;31m# Error is 98%. 를 출력하고 싶다.\u001b[0m\u001b[0;34m\u001b[0m\u001b[0;34m\u001b[0m\u001b[0m\n\u001b[0;32m----> 3\u001b[0;31m \u001b[0;34m\"Error is %d%.\"\u001b[0m \u001b[0;34m%\u001b[0m \u001b[0;36m98\u001b[0m  \u001b[0;31m# 오류 발생\u001b[0m\u001b[0;34m\u001b[0m\u001b[0;34m\u001b[0m\u001b[0m\n\u001b[0m",
            "\u001b[0;31mValueError\u001b[0m: incomplete format"
          ]
        }
      ]
    },
    {
      "cell_type": "code",
      "source": [
        "\"Error is %d%%.\" % 98"
      ],
      "metadata": {
        "colab": {
          "base_uri": "https://localhost:8080/",
          "height": 35
        },
        "id": "zfFi34plUUwh",
        "outputId": "0f3d3a2f-e26d-4e74-fb7a-4b79d8f4ef6b"
      },
      "execution_count": null,
      "outputs": [
        {
          "output_type": "execute_result",
          "data": {
            "text/plain": [
              "'Error is 98%.'"
            ],
            "application/vnd.google.colaboratory.intrinsic+json": {
              "type": "string"
            }
          },
          "metadata": {},
          "execution_count": 45
        }
      ]
    },
    {
      "cell_type": "markdown",
      "source": [
        "포맷 코드(%d, %s, ...)와 숫자 함께 사용하기"
      ],
      "metadata": {
        "id": "PmFyp4e5Uo-p"
      }
    },
    {
      "cell_type": "code",
      "source": [
        "# 정렬과 공백\n",
        "\n",
        "# 오른쪽 정렬이 기본값\n",
        "\"%10s\" % \"hi\"   # 10개인 문자열 공간에서 대입값을 오른쪽에 넣고 앞의 나머지는 공백으로 출력됨"
      ],
      "metadata": {
        "colab": {
          "base_uri": "https://localhost:8080/",
          "height": 35
        },
        "id": "E71phtbzUmy5",
        "outputId": "c2e7cbc4-c6e3-4cd0-8461-f4ba974a14db"
      },
      "execution_count": null,
      "outputs": [
        {
          "output_type": "execute_result",
          "data": {
            "text/plain": [
              "'        hi'"
            ],
            "application/vnd.google.colaboratory.intrinsic+json": {
              "type": "string"
            }
          },
          "metadata": {},
          "execution_count": 46
        }
      ]
    },
    {
      "cell_type": "code",
      "source": [
        "\"%-10s\" % \"hi\"  # 반대로(왼쪽 정렬)"
      ],
      "metadata": {
        "colab": {
          "base_uri": "https://localhost:8080/",
          "height": 35
        },
        "id": "5e0BpHS1VWOy",
        "outputId": "f92fd612-4406-48de-f311-57eb64a22d22"
      },
      "execution_count": null,
      "outputs": [
        {
          "output_type": "execute_result",
          "data": {
            "text/plain": [
              "'hi        '"
            ],
            "application/vnd.google.colaboratory.intrinsic+json": {
              "type": "string"
            }
          },
          "metadata": {},
          "execution_count": 47
        }
      ]
    },
    {
      "cell_type": "code",
      "source": [
        "# \"OOO님 환영합니다!\" 같은 걸 쓰고 싶을 때 쓴다.\n",
        "\"%-10sapple\" % \"hi\""
      ],
      "metadata": {
        "colab": {
          "base_uri": "https://localhost:8080/",
          "height": 35
        },
        "id": "l9mNRJvDVjG6",
        "outputId": "2d864b0e-7851-43a2-a8c3-69da229486fc"
      },
      "execution_count": null,
      "outputs": [
        {
          "output_type": "execute_result",
          "data": {
            "text/plain": [
              "'hi        apple'"
            ],
            "application/vnd.google.colaboratory.intrinsic+json": {
              "type": "string"
            }
          },
          "metadata": {},
          "execution_count": 48
        }
      ]
    },
    {
      "cell_type": "code",
      "source": [
        "# 소수점 표현\n",
        "\"%0.4f\" % 3.421567486   # 3.421567486를 소수점 네 번째 자리까지만 표현"
      ],
      "metadata": {
        "colab": {
          "base_uri": "https://localhost:8080/",
          "height": 35
        },
        "id": "RAreS7GuVqLY",
        "outputId": "f8600636-0e1b-474b-9372-1cb525a492fd"
      },
      "execution_count": null,
      "outputs": [
        {
          "output_type": "execute_result",
          "data": {
            "text/plain": [
              "'3.4216'"
            ],
            "application/vnd.google.colaboratory.intrinsic+json": {
              "type": "string"
            }
          },
          "metadata": {},
          "execution_count": 49
        }
      ]
    },
    {
      "cell_type": "code",
      "source": [
        "\"%.4f\" % 3.421567486    # 위와 똑같은 표현. 0 생략 가능"
      ],
      "metadata": {
        "colab": {
          "base_uri": "https://localhost:8080/",
          "height": 35
        },
        "id": "TBoi9PffWCFC",
        "outputId": "6713fab7-9951-4571-a1d6-d1ee823d76b5"
      },
      "execution_count": null,
      "outputs": [
        {
          "output_type": "execute_result",
          "data": {
            "text/plain": [
              "'3.4216'"
            ],
            "application/vnd.google.colaboratory.intrinsic+json": {
              "type": "string"
            }
          },
          "metadata": {},
          "execution_count": 51
        }
      ]
    },
    {
      "cell_type": "code",
      "source": [
        "\"%10.5f\" % 3.421567486   # 전체 10개의 문자열 공간에 3.421567486를 소수점 다섯 번째 자리까지만 표현"
      ],
      "metadata": {
        "colab": {
          "base_uri": "https://localhost:8080/",
          "height": 35
        },
        "id": "SbhdLAX-WLfS",
        "outputId": "bf701e8f-80f1-4dcc-ea01-111c9fad9371"
      },
      "execution_count": null,
      "outputs": [
        {
          "output_type": "execute_result",
          "data": {
            "text/plain": [
              "'   3.42157'"
            ],
            "application/vnd.google.colaboratory.intrinsic+json": {
              "type": "string"
            }
          },
          "metadata": {},
          "execution_count": 52
        }
      ]
    },
    {
      "cell_type": "markdown",
      "source": [
        "format 함수를 사용한 포맷팅"
      ],
      "metadata": {
        "id": "75jtoGlCWlEJ"
      }
    },
    {
      "cell_type": "code",
      "source": [
        "# 숫자 대입\n",
        "\"I eat {0} apples.\".format(3)"
      ],
      "metadata": {
        "colab": {
          "base_uri": "https://localhost:8080/",
          "height": 35
        },
        "id": "bgMcnTXSWhZa",
        "outputId": "087dcdf5-0b09-46b1-ef02-f50153d214bd"
      },
      "execution_count": null,
      "outputs": [
        {
          "output_type": "execute_result",
          "data": {
            "text/plain": [
              "'I eat 3 apples.'"
            ],
            "application/vnd.google.colaboratory.intrinsic+json": {
              "type": "string"
            }
          },
          "metadata": {},
          "execution_count": 54
        }
      ]
    },
    {
      "cell_type": "code",
      "source": [
        "# 문자열 대입\n",
        "\"I eat {0} apples.\".format(\"four\")"
      ],
      "metadata": {
        "colab": {
          "base_uri": "https://localhost:8080/",
          "height": 35
        },
        "id": "jwYb7ahgWuN4",
        "outputId": "34d7e199-30c3-4c62-f3a9-58db0216d632"
      },
      "execution_count": null,
      "outputs": [
        {
          "output_type": "execute_result",
          "data": {
            "text/plain": [
              "'I eat four apples.'"
            ],
            "application/vnd.google.colaboratory.intrinsic+json": {
              "type": "string"
            }
          },
          "metadata": {},
          "execution_count": 55
        }
      ]
    },
    {
      "cell_type": "code",
      "source": [
        "# 변수 대입\n",
        "a = 5\n",
        "print(\"I eat {0} apples.\".format(a))\n",
        "b = \"two\"\n",
        "print(\"I eat {0} apples.\".format(b))"
      ],
      "metadata": {
        "colab": {
          "base_uri": "https://localhost:8080/"
        },
        "id": "hlmxHKh1W6Oo",
        "outputId": "dbc3bbaf-9635-4779-a630-50b1be0db18d"
      },
      "execution_count": null,
      "outputs": [
        {
          "output_type": "stream",
          "name": "stdout",
          "text": [
            "I eat 5 apples.\n",
            "I eat two apples.\n"
          ]
        }
      ]
    },
    {
      "cell_type": "code",
      "source": [
        "# 2개 이상 대입\n",
        "number = 4\n",
        "day = \"two\"\n",
        "\"I ate {0} apples, so I was sick for {1} days.\".format(number, day)"
      ],
      "metadata": {
        "colab": {
          "base_uri": "https://localhost:8080/",
          "height": 35
        },
        "id": "_IpsbeKnXKmA",
        "outputId": "e6de9b3d-43cd-4a58-8c67-5186baf14ac6"
      },
      "execution_count": null,
      "outputs": [
        {
          "output_type": "execute_result",
          "data": {
            "text/plain": [
              "'I ate 4 apples, so I was sick for two days.'"
            ],
            "application/vnd.google.colaboratory.intrinsic+json": {
              "type": "string"
            }
          },
          "metadata": {},
          "execution_count": 60
        }
      ]
    },
    {
      "cell_type": "code",
      "source": [
        "\"I ate {} apples, so I was sick for {} days.\".format(number, day)   # {} 안 숫자 생략 가능. 단, (number, day) 순서대로 대입"
      ],
      "metadata": {
        "colab": {
          "base_uri": "https://localhost:8080/",
          "height": 35
        },
        "id": "i10GnFatXhG4",
        "outputId": "4e7d360e-30aa-4af6-f2ee-df72eb564d45"
      },
      "execution_count": null,
      "outputs": [
        {
          "output_type": "execute_result",
          "data": {
            "text/plain": [
              "'I ate 4 apples, so I was sick for two days.'"
            ],
            "application/vnd.google.colaboratory.intrinsic+json": {
              "type": "string"
            }
          },
          "metadata": {},
          "execution_count": 63
        }
      ]
    },
    {
      "cell_type": "code",
      "source": [
        "# 인덱스와 이름 혼용해서 넣기 가능\n",
        "\"I ate {0} apples, so I was sick for {day} days.\".format(8, day = 5)"
      ],
      "metadata": {
        "colab": {
          "base_uri": "https://localhost:8080/",
          "height": 35
        },
        "id": "A0EKO6zDXxwD",
        "outputId": "1f07a6e4-bc6d-4b08-b704-a4322738d03d"
      },
      "execution_count": null,
      "outputs": [
        {
          "output_type": "execute_result",
          "data": {
            "text/plain": [
              "'I ate 8 apples, so I was sick for 5 days.'"
            ],
            "application/vnd.google.colaboratory.intrinsic+json": {
              "type": "string"
            }
          },
          "metadata": {},
          "execution_count": 66
        }
      ]
    },
    {
      "cell_type": "code",
      "source": [
        "# 왼쪽 정렬\n",
        "\"{0:<10}\".format(\"hi\")  # :<10은 문자열을 왼쪽 정렬하고 문자열 총 길이를 10으로"
      ],
      "metadata": {
        "colab": {
          "base_uri": "https://localhost:8080/",
          "height": 35
        },
        "id": "Ih07SQC4YCJN",
        "outputId": "af70484a-cd1b-4d7b-c47e-fda8e9685dd3"
      },
      "execution_count": null,
      "outputs": [
        {
          "output_type": "execute_result",
          "data": {
            "text/plain": [
              "'hi        '"
            ],
            "application/vnd.google.colaboratory.intrinsic+json": {
              "type": "string"
            }
          },
          "metadata": {},
          "execution_count": 67
        }
      ]
    },
    {
      "cell_type": "code",
      "source": [
        "# 오른쪽 정렬\n",
        "\"{:>10}\".format(\"apple\")   # :>10은 문자열을 오른쪽 정렬하고 문자열 총 길이를 10으로"
      ],
      "metadata": {
        "colab": {
          "base_uri": "https://localhost:8080/",
          "height": 35
        },
        "id": "Mz3OOwc2Yjey",
        "outputId": "0c7db271-9df4-4038-ace2-aea8de1cb90f"
      },
      "execution_count": null,
      "outputs": [
        {
          "output_type": "execute_result",
          "data": {
            "text/plain": [
              "'     apple'"
            ],
            "application/vnd.google.colaboratory.intrinsic+json": {
              "type": "string"
            }
          },
          "metadata": {},
          "execution_count": 70
        }
      ]
    },
    {
      "cell_type": "code",
      "source": [
        "# 가운데 정렬\n",
        "\"{0:^10}\".format(\"hi\")   # :^10은 문자열을 가운데 정렬하고 문자열 총 길이를 10으로"
      ],
      "metadata": {
        "colab": {
          "base_uri": "https://localhost:8080/",
          "height": 35
        },
        "id": "qRCwc3M1Ytmy",
        "outputId": "ace44ac5-917e-4d9e-9045-93c1283b694f"
      },
      "execution_count": null,
      "outputs": [
        {
          "output_type": "execute_result",
          "data": {
            "text/plain": [
              "'    hi    '"
            ],
            "application/vnd.google.colaboratory.intrinsic+json": {
              "type": "string"
            }
          },
          "metadata": {},
          "execution_count": 71
        }
      ]
    },
    {
      "cell_type": "code",
      "source": [
        "# 공백 채우기\n",
        "\"{:-^20}\".format(\"cut\")   # 문자열을 가운데 정렬하고 공백은 -로 채움"
      ],
      "metadata": {
        "colab": {
          "base_uri": "https://localhost:8080/",
          "height": 35
        },
        "id": "yfMU5X3kY50S",
        "outputId": "91a36f2d-a797-4f36-b99b-564e6b0e12a9"
      },
      "execution_count": null,
      "outputs": [
        {
          "output_type": "execute_result",
          "data": {
            "text/plain": [
              "'--------cut---------'"
            ],
            "application/vnd.google.colaboratory.intrinsic+json": {
              "type": "string"
            }
          },
          "metadata": {},
          "execution_count": 73
        }
      ]
    },
    {
      "cell_type": "code",
      "source": [
        "\"{:+<10}\".format(\"hi\")"
      ],
      "metadata": {
        "colab": {
          "base_uri": "https://localhost:8080/",
          "height": 35
        },
        "id": "EtddnMIOZPuT",
        "outputId": "474611fb-2b79-48b1-ce36-ae1c770fe86f"
      },
      "execution_count": null,
      "outputs": [
        {
          "output_type": "execute_result",
          "data": {
            "text/plain": [
              "'hi++++++++'"
            ],
            "application/vnd.google.colaboratory.intrinsic+json": {
              "type": "string"
            }
          },
          "metadata": {},
          "execution_count": 74
        }
      ]
    },
    {
      "cell_type": "code",
      "source": [
        "# 소수점 표현\n",
        "\"{0:0.4f}\".format(3.42134234)"
      ],
      "metadata": {
        "colab": {
          "base_uri": "https://localhost:8080/",
          "height": 35
        },
        "id": "RaVkyoUjZbS3",
        "outputId": "0fea63d9-f355-4d89-f7a3-ec4e89ea3a0a"
      },
      "execution_count": null,
      "outputs": [
        {
          "output_type": "execute_result",
          "data": {
            "text/plain": [
              "'3.4213'"
            ],
            "application/vnd.google.colaboratory.intrinsic+json": {
              "type": "string"
            }
          },
          "metadata": {},
          "execution_count": 75
        }
      ]
    },
    {
      "cell_type": "code",
      "source": [
        "\"{:<10.4f}\".format(3.42134234)"
      ],
      "metadata": {
        "colab": {
          "base_uri": "https://localhost:8080/",
          "height": 35
        },
        "id": "2LR--FolZpWH",
        "outputId": "4a691489-fbf3-4969-cafb-ac5d2287a372"
      },
      "execution_count": null,
      "outputs": [
        {
          "output_type": "execute_result",
          "data": {
            "text/plain": [
              "'3.4213    '"
            ],
            "application/vnd.google.colaboratory.intrinsic+json": {
              "type": "string"
            }
          },
          "metadata": {},
          "execution_count": 77
        }
      ]
    },
    {
      "cell_type": "code",
      "source": [
        "# { 또는 } 문자 그대로 사용하고 싶을 때\n",
        "\"{{ and }}\".format()"
      ],
      "metadata": {
        "colab": {
          "base_uri": "https://localhost:8080/",
          "height": 35
        },
        "id": "w_CDY_toZyYg",
        "outputId": "81dc1dff-4966-4d1f-acb0-f46bdba0ee59"
      },
      "execution_count": null,
      "outputs": [
        {
          "output_type": "execute_result",
          "data": {
            "text/plain": [
              "'{ and }'"
            ],
            "application/vnd.google.colaboratory.intrinsic+json": {
              "type": "string"
            }
          },
          "metadata": {},
          "execution_count": 78
        }
      ]
    },
    {
      "cell_type": "code",
      "source": [
        "\"{{}}\".format()"
      ],
      "metadata": {
        "colab": {
          "base_uri": "https://localhost:8080/",
          "height": 35
        },
        "id": "doe_VJhUaDU_",
        "outputId": "82a74989-4cfc-489c-ce80-c4351beb861b"
      },
      "execution_count": null,
      "outputs": [
        {
          "output_type": "execute_result",
          "data": {
            "text/plain": [
              "'{}'"
            ],
            "application/vnd.google.colaboratory.intrinsic+json": {
              "type": "string"
            }
          },
          "metadata": {},
          "execution_count": 80
        }
      ]
    },
    {
      "cell_type": "markdown",
      "source": [
        "f 문자열 포매팅 <- 파이썬 3.6버전 부터 가능"
      ],
      "metadata": {
        "id": "GeGjZJWGaPbZ"
      }
    },
    {
      "cell_type": "code",
      "source": [
        "name = \"조수빈\"\n",
        "age = 24\n",
        "print(f\"내 이름은 {name}이고, 나이는 {age}이야.\")"
      ],
      "metadata": {
        "colab": {
          "base_uri": "https://localhost:8080/"
        },
        "id": "K_3WGj-3aGLv",
        "outputId": "d468d980-ef4c-445e-efd4-d1c28df6f77d"
      },
      "execution_count": null,
      "outputs": [
        {
          "output_type": "stream",
          "name": "stdout",
          "text": [
            "내 이름은 조수빈이고, 나이는 24이야.\n"
          ]
        }
      ]
    },
    {
      "cell_type": "code",
      "source": [
        "# f 문자열 포매팅은 계산 가능\n",
        "f\"내년에는 나이가 {age + 1}이 될거야.\""
      ],
      "metadata": {
        "colab": {
          "base_uri": "https://localhost:8080/",
          "height": 35
        },
        "id": "Eee5pJ88agxg",
        "outputId": "20db9ca9-8a1d-4dac-ede3-d07d2064b609"
      },
      "execution_count": null,
      "outputs": [
        {
          "output_type": "execute_result",
          "data": {
            "text/plain": [
              "'내년에는 나이가 25이 될거야.'"
            ],
            "application/vnd.google.colaboratory.intrinsic+json": {
              "type": "string"
            }
          },
          "metadata": {},
          "execution_count": 82
        }
      ]
    },
    {
      "cell_type": "code",
      "source": [
        "# 딕셔너리 활용\n",
        "d = {'name' : '홍길동', 'age' : '30'}\n",
        "print(f\"나의 이름은 {d['name']}입니다. 나이는 {d['age']}입니다.\")"
      ],
      "metadata": {
        "colab": {
          "base_uri": "https://localhost:8080/"
        },
        "id": "-hGLRB2Rao4n",
        "outputId": "5f7e54a4-5364-42b7-c1c7-db65bb6a9c63"
      },
      "execution_count": null,
      "outputs": [
        {
          "output_type": "stream",
          "name": "stdout",
          "text": [
            "나의 이름은 홍길동입니다. 나이는 30입니다.\n"
          ]
        }
      ]
    },
    {
      "cell_type": "code",
      "source": [
        "print(f'{\"hi\":<10}')  # 왼쪽 정렬\n",
        "print(f'{\"hi\":>10}')  # 오른쪽 정렬\n",
        "print(f'{\"hi\":^10}')  # 가운데 정렬"
      ],
      "metadata": {
        "colab": {
          "base_uri": "https://localhost:8080/"
        },
        "id": "Sw8xR1_ibDyg",
        "outputId": "17828ea5-5f59-4794-cfb9-25e2ea15096b"
      },
      "execution_count": null,
      "outputs": [
        {
          "output_type": "stream",
          "name": "stdout",
          "text": [
            "hi        \n",
            "        hi\n",
            "    hi    \n"
          ]
        }
      ]
    },
    {
      "cell_type": "code",
      "source": [
        "# 공백 채우기\n",
        "print(f'{\"cut\":-^20}')"
      ],
      "metadata": {
        "colab": {
          "base_uri": "https://localhost:8080/"
        },
        "id": "lw60rwjabjLa",
        "outputId": "7c1aa52b-16ed-44bc-b951-80f60eb3edaa"
      },
      "execution_count": null,
      "outputs": [
        {
          "output_type": "stream",
          "name": "stdout",
          "text": [
            "--------cut---------\n"
          ]
        }
      ]
    },
    {
      "cell_type": "code",
      "source": [
        "# 소수점 표현\n",
        "y = 3.42134234\n",
        "f'{y:10.4f}'"
      ],
      "metadata": {
        "colab": {
          "base_uri": "https://localhost:8080/",
          "height": 35
        },
        "id": "NIlYSJ8AbwXK",
        "outputId": "031d4877-4354-4f14-9f87-23c0d282d7dd"
      },
      "execution_count": null,
      "outputs": [
        {
          "output_type": "execute_result",
          "data": {
            "text/plain": [
              "'    3.4213'"
            ],
            "application/vnd.google.colaboratory.intrinsic+json": {
              "type": "string"
            }
          },
          "metadata": {},
          "execution_count": 86
        }
      ]
    },
    {
      "cell_type": "code",
      "source": [
        "# { } 그대로 표현\n",
        "f'{{ }}'"
      ],
      "metadata": {
        "colab": {
          "base_uri": "https://localhost:8080/",
          "height": 35
        },
        "id": "zm9Qgv9ib9Cv",
        "outputId": "26b1b466-2473-4eca-be4f-353cb962b560"
      },
      "execution_count": null,
      "outputs": [
        {
          "output_type": "execute_result",
          "data": {
            "text/plain": [
              "'{ }'"
            ],
            "application/vnd.google.colaboratory.intrinsic+json": {
              "type": "string"
            }
          },
          "metadata": {},
          "execution_count": 87
        }
      ]
    },
    {
      "cell_type": "markdown",
      "source": [
        "문자열 관련 함수"
      ],
      "metadata": {
        "id": "Om390N_LcM4I"
      }
    },
    {
      "cell_type": "code",
      "source": [
        "# count : 문자 개수 세기 -> 응용:이메일 판독할때(@가 하나인지 확인)\n",
        "a = \"apple\"\n",
        "print(a.count(\"p\"))"
      ],
      "metadata": {
        "colab": {
          "base_uri": "https://localhost:8080/"
        },
        "id": "PvqlBh5EcGgn",
        "outputId": "6317a0c4-dfe7-4c27-e150-9e47e3352746"
      },
      "execution_count": null,
      "outputs": [
        {
          "output_type": "stream",
          "name": "stdout",
          "text": [
            "2\n"
          ]
        }
      ]
    },
    {
      "cell_type": "code",
      "source": [
        "# find : 문자 위치 알려주기\n",
        "b = \"Python\"\n",
        "print(b.find(\"o\"))\n",
        "print(b.find(\"a\"))  # 문자열에 존재하지 않는 경우 -1 반환"
      ],
      "metadata": {
        "colab": {
          "base_uri": "https://localhost:8080/"
        },
        "id": "GjGGw0qFcU63",
        "outputId": "6938785f-d7f5-4828-dad4-0963d022ce25"
      },
      "execution_count": null,
      "outputs": [
        {
          "output_type": "stream",
          "name": "stdout",
          "text": [
            "4\n",
            "-1\n"
          ]
        }
      ]
    },
    {
      "cell_type": "code",
      "source": [
        "# index : 문자 위치 알려주기\n",
        "b = \"Python\"\n",
        "print(b.index(\"o\"))\n",
        "print(b.index(\"a\"))   # 문자열에 존재하지 않는 경우 오류 발생"
      ],
      "metadata": {
        "colab": {
          "base_uri": "https://localhost:8080/",
          "height": 202
        },
        "id": "DVKM7lNlcpAv",
        "outputId": "fa759ff5-1fc3-435e-b903-cd85a3731f0e"
      },
      "execution_count": null,
      "outputs": [
        {
          "output_type": "stream",
          "name": "stdout",
          "text": [
            "4\n"
          ]
        },
        {
          "output_type": "error",
          "ename": "ValueError",
          "evalue": "substring not found",
          "traceback": [
            "\u001b[0;31m---------------------------------------------------------------------------\u001b[0m",
            "\u001b[0;31mValueError\u001b[0m                                Traceback (most recent call last)",
            "\u001b[0;32m<ipython-input-94-c1264513a745>\u001b[0m in \u001b[0;36m<cell line: 0>\u001b[0;34m()\u001b[0m\n\u001b[1;32m      2\u001b[0m \u001b[0mb\u001b[0m \u001b[0;34m=\u001b[0m \u001b[0;34m\"Python\"\u001b[0m\u001b[0;34m\u001b[0m\u001b[0;34m\u001b[0m\u001b[0m\n\u001b[1;32m      3\u001b[0m \u001b[0mprint\u001b[0m\u001b[0;34m(\u001b[0m\u001b[0mb\u001b[0m\u001b[0;34m.\u001b[0m\u001b[0mindex\u001b[0m\u001b[0;34m(\u001b[0m\u001b[0;34m\"o\"\u001b[0m\u001b[0;34m)\u001b[0m\u001b[0;34m)\u001b[0m\u001b[0;34m\u001b[0m\u001b[0;34m\u001b[0m\u001b[0m\n\u001b[0;32m----> 4\u001b[0;31m \u001b[0mprint\u001b[0m\u001b[0;34m(\u001b[0m\u001b[0mb\u001b[0m\u001b[0;34m.\u001b[0m\u001b[0mindex\u001b[0m\u001b[0;34m(\u001b[0m\u001b[0;34m\"a\"\u001b[0m\u001b[0;34m)\u001b[0m\u001b[0;34m)\u001b[0m   \u001b[0;31m# 문자열에 존재하지 않는 경우 오류 발생\u001b[0m\u001b[0;34m\u001b[0m\u001b[0;34m\u001b[0m\u001b[0m\n\u001b[0m",
            "\u001b[0;31mValueError\u001b[0m: substring not found"
          ]
        }
      ]
    },
    {
      "cell_type": "code",
      "source": [
        "# join : 문자열 삽입\n",
        "print(\", \".join(\"123456789\"))\n",
        "print(\", \".join([\"1\", \"b\", \"3\"]))"
      ],
      "metadata": {
        "colab": {
          "base_uri": "https://localhost:8080/"
        },
        "id": "QN32XN8Fc_ay",
        "outputId": "c43015a4-735a-46dd-f2aa-b1702547ef3e"
      },
      "execution_count": null,
      "outputs": [
        {
          "output_type": "stream",
          "name": "stdout",
          "text": [
            "1, 2, 3, 4, 5, 6, 7, 8, 9\n",
            "1, b, 3\n"
          ]
        }
      ]
    },
    {
      "cell_type": "code",
      "source": [
        "# upper : 소문자를 대문자로\n",
        "# lower : 대문자를 소문자로\n",
        "print(\"python\".upper())\n",
        "print(\"HI\".lower())"
      ],
      "metadata": {
        "colab": {
          "base_uri": "https://localhost:8080/"
        },
        "id": "sw5Yw-_OdJs3",
        "outputId": "2eaf9e8f-8cfd-4db9-fc0d-4655c37917dc"
      },
      "execution_count": null,
      "outputs": [
        {
          "output_type": "stream",
          "name": "stdout",
          "text": [
            "PYTHON\n",
            "hi\n"
          ]
        }
      ]
    },
    {
      "cell_type": "code",
      "source": [
        "# lstrip : 왼쪽 공백 지우기\n",
        "# rstrip : 오른쪽 공백 지우기\n",
        "# strip : 양쪽 공백 지우기\n",
        "print(\"   hi   \".lstrip())\n",
        "print(\"   hi   \".rstrip())\n",
        "print(\"   hi   \".strip())"
      ],
      "metadata": {
        "colab": {
          "base_uri": "https://localhost:8080/"
        },
        "id": "Mccexm48dpVn",
        "outputId": "71ffec0b-d49e-4a94-be9a-120b246fee36"
      },
      "execution_count": null,
      "outputs": [
        {
          "output_type": "stream",
          "name": "stdout",
          "text": [
            "hi   \n",
            "   hi\n",
            "hi\n"
          ]
        }
      ]
    },
    {
      "cell_type": "code",
      "source": [
        "# replace : 문자열 바꾸기\n",
        "a = \"I love Python.\"\n",
        "a.replace(\"love\", \"like\")"
      ],
      "metadata": {
        "colab": {
          "base_uri": "https://localhost:8080/",
          "height": 35
        },
        "id": "eE1W4fF5eAOn",
        "outputId": "99e9bfda-7a13-4225-f11b-9006c3a38832"
      },
      "execution_count": null,
      "outputs": [
        {
          "output_type": "execute_result",
          "data": {
            "text/plain": [
              "'I like Python.'"
            ],
            "application/vnd.google.colaboratory.intrinsic+json": {
              "type": "string"
            }
          },
          "metadata": {},
          "execution_count": 102
        }
      ]
    },
    {
      "cell_type": "code",
      "source": [
        "# split : 문자열 나누기\n",
        "a = \"1 2 3 4 5 6 7 8 9 10\"\n",
        "\n",
        "print(a.split())      # 괄호 안에 아무것도 넣지 않으면 공백([Space], [Tab], [Enter]) 기준으로 나눔\n",
        "print(a.split(\" \"))   # 결과 같음"
      ],
      "metadata": {
        "colab": {
          "base_uri": "https://localhost:8080/"
        },
        "id": "snq0oJOeeOz3",
        "outputId": "93d80ab8-ef60-49a1-8f60-5b0634ad9b7d"
      },
      "execution_count": null,
      "outputs": [
        {
          "output_type": "stream",
          "name": "stdout",
          "text": [
            "['1', '2', '3', '4', '5', '6', '7', '8', '9', '10']\n",
            "['1', '2', '3', '4', '5', '6', '7', '8', '9', '10']\n"
          ]
        }
      ]
    },
    {
      "cell_type": "code",
      "source": [
        "b = \"a-b-c-d-e\"\n",
        "b.split(\"-\")"
      ],
      "metadata": {
        "colab": {
          "base_uri": "https://localhost:8080/"
        },
        "id": "M5efOOcGee9p",
        "outputId": "aad9524d-f62e-4714-9079-2ba0011b13df"
      },
      "execution_count": null,
      "outputs": [
        {
          "output_type": "execute_result",
          "data": {
            "text/plain": [
              "['a', 'b', 'c', 'd', 'e']"
            ]
          },
          "metadata": {},
          "execution_count": 106
        }
      ]
    },
    {
      "cell_type": "markdown",
      "source": [
        "연습"
      ],
      "metadata": {
        "id": "-SJNHc4fLjXS"
      }
    },
    {
      "cell_type": "code",
      "source": [
        "a = \"hi\"\n",
        "f'{a:<10}'"
      ],
      "metadata": {
        "id": "00ljX0UJenO3",
        "outputId": "202c7d80-e308-4c62-b2a3-af99d50e9cbc",
        "colab": {
          "base_uri": "https://localhost:8080/",
          "height": 35
        }
      },
      "execution_count": 2,
      "outputs": [
        {
          "output_type": "execute_result",
          "data": {
            "text/plain": [
              "'hi        '"
            ],
            "application/vnd.google.colaboratory.intrinsic+json": {
              "type": "string"
            }
          },
          "metadata": {},
          "execution_count": 2
        }
      ]
    },
    {
      "cell_type": "code",
      "source": [
        "f'{{abcdef'"
      ],
      "metadata": {
        "id": "jrYbHrQkMCMi",
        "outputId": "bf122a1b-b05f-4419-8e70-7d18a845088b",
        "colab": {
          "base_uri": "https://localhost:8080/",
          "height": 35
        }
      },
      "execution_count": 4,
      "outputs": [
        {
          "output_type": "execute_result",
          "data": {
            "text/plain": [
              "'{abcdef'"
            ],
            "application/vnd.google.colaboratory.intrinsic+json": {
              "type": "string"
            }
          },
          "metadata": {},
          "execution_count": 4
        }
      ]
    },
    {
      "cell_type": "code",
      "source": [
        "f'abcdef}}'"
      ],
      "metadata": {
        "id": "PfMGZzSvMWsx",
        "outputId": "5031d146-e858-45d5-958f-ee7406f9c787",
        "colab": {
          "base_uri": "https://localhost:8080/",
          "height": 35
        }
      },
      "execution_count": 5,
      "outputs": [
        {
          "output_type": "execute_result",
          "data": {
            "text/plain": [
              "'abcdef}'"
            ],
            "application/vnd.google.colaboratory.intrinsic+json": {
              "type": "string"
            }
          },
          "metadata": {},
          "execution_count": 5
        }
      ]
    },
    {
      "cell_type": "code",
      "source": [
        "a = input(\"이메일을 입력하세요 : \")\n",
        "if a.count('@') == 1:\n",
        "  print(\"올바른 이메일입니다.\")\n",
        "else:\n",
        "  print(\"이메일이 아닙니다.\")"
      ],
      "metadata": {
        "colab": {
          "base_uri": "https://localhost:8080/"
        },
        "id": "-pPJ9ebHMbRx",
        "outputId": "eacf1d3e-7de6-4430-c900-a55e566c6a53"
      },
      "execution_count": 8,
      "outputs": [
        {
          "output_type": "stream",
          "name": "stdout",
          "text": [
            "이메일을 입력하세요 : asd2@nnn\n",
            "올바른 이메일입니다.\n"
          ]
        }
      ]
    },
    {
      "cell_type": "code",
      "source": [
        "a = input(\"이메일을 입력하세요 : \")\n",
        "if a.count('@') == 1 and a.count('.') == 1:\n",
        "  print(\"올바른 이메일입니다.\")\n",
        "else:\n",
        "  print(\"이메일이 아닙니다.\")"
      ],
      "metadata": {
        "outputId": "151229ce-9a1b-4938-f2bb-0315c5fee151",
        "colab": {
          "base_uri": "https://localhost:8080/"
        },
        "id": "1FZq_zvhNh4q"
      },
      "execution_count": 13,
      "outputs": [
        {
          "output_type": "stream",
          "name": "stdout",
          "text": [
            "이메일을 입력하세요 : asd@cc.net\n",
            "올바른 이메일입니다.\n"
          ]
        }
      ]
    },
    {
      "cell_type": "code",
      "source": [
        "a = \"asd@naver.com\"\n",
        "'.com' in a"
      ],
      "metadata": {
        "id": "4_VVeze8M7Jy",
        "outputId": "8313c66d-925b-4768-da72-f55067a50bdb",
        "colab": {
          "base_uri": "https://localhost:8080/"
        }
      },
      "execution_count": 10,
      "outputs": [
        {
          "output_type": "execute_result",
          "data": {
            "text/plain": [
              "True"
            ]
          },
          "metadata": {},
          "execution_count": 10
        }
      ]
    },
    {
      "cell_type": "code",
      "source": [
        "a = input(\"이메일을 입력하세요 : \")\n",
        "if a.count('@') == 1 and '.' in a:\n",
        "  print(\"올바른 이메일입니다.\")\n",
        "else:\n",
        "  print(\"이메일이 아닙니다.\")"
      ],
      "metadata": {
        "id": "CvHO0Nj3N16B",
        "outputId": "e8923bac-e7cc-4f42-91a4-6d0eeccbbaee",
        "colab": {
          "base_uri": "https://localhost:8080/"
        }
      },
      "execution_count": 15,
      "outputs": [
        {
          "output_type": "stream",
          "name": "stdout",
          "text": [
            "이메일을 입력하세요 : asd@n.n\n",
            "올바른 이메일입니다.\n"
          ]
        }
      ]
    },
    {
      "cell_type": "code",
      "source": [],
      "metadata": {
        "id": "x6fzzD0tPXiR"
      },
      "execution_count": null,
      "outputs": []
    }
  ]
}