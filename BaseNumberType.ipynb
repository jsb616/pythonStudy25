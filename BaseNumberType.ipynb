{
  "nbformat": 4,
  "nbformat_minor": 0,
  "metadata": {
    "colab": {
      "provenance": [],
      "authorship_tag": "ABX9TyO0wmk5EeogiujP6qPGUU0D",
      "include_colab_link": true
    },
    "kernelspec": {
      "name": "python3",
      "display_name": "Python 3"
    },
    "language_info": {
      "name": "python"
    }
  },
  "cells": [
    {
      "cell_type": "markdown",
      "metadata": {
        "id": "view-in-github",
        "colab_type": "text"
      },
      "source": [
        "<a href=\"https://colab.research.google.com/github/jsb616/pythonStudy25/blob/master/BaseNumberType.ipynb\" target=\"_parent\"><img src=\"https://colab.research.google.com/assets/colab-badge.svg\" alt=\"Open In Colab\"/></a>"
      ]
    },
    {
      "cell_type": "code",
      "execution_count": 3,
      "metadata": {
        "id": "zm2WyrfH6zmp"
      },
      "outputs": [],
      "source": [
        "# 주석은 실행이 되지 않는 문구를 말한다.\n",
        "# 주석은 코드의 설명을 작성하는 부분으로 많이 사용한다."
      ]
    },
    {
      "cell_type": "code",
      "source": [
        "# 슷지 자료형 (Number타입) : 숫자 형태로 이루어진 자료형\n",
        "# 123 정수형\n",
        "# 12.34 실수형\n",
        "# 8진수, 16진수 등도 포함된다.\n",
        "\n",
        "# 정수형 (integer) 양의정수, 음의정수, 0 등을 표현\n",
        "a = 123       # 자바인 경우 : int a = 123;\n",
        "b = -123\n",
        "c = 0\n",
        "\n",
        "print(a)\n",
        "print(b)\n",
        "print(c)"
      ],
      "metadata": {
        "colab": {
          "base_uri": "https://localhost:8080/"
        },
        "id": "0p2nQOxh8K-t",
        "outputId": "b9868d9a-5da8-46cc-dbb0-f52b7698c6cb"
      },
      "execution_count": 15,
      "outputs": [
        {
          "output_type": "stream",
          "name": "stdout",
          "text": [
            "123\n",
            "-123\n",
            "0\n"
          ]
        }
      ]
    },
    {
      "cell_type": "code",
      "source": [
        "# 실수형 (floating-point) : 소수점이 포함된 숫자\n",
        "\n",
        "d = 1.2\n",
        "e = -3.45\n",
        "\n",
        "print(d)\n",
        "print(e)"
      ],
      "metadata": {
        "colab": {
          "base_uri": "https://localhost:8080/"
        },
        "id": "3yTn_4L_9CZ1",
        "outputId": "23f66305-0508-4d6c-f0da-e7034a91742f"
      },
      "execution_count": 5,
      "outputs": [
        {
          "output_type": "stream",
          "name": "stdout",
          "text": [
            "1.2\n",
            "-3.45\n"
          ]
        }
      ]
    },
    {
      "cell_type": "code",
      "source": [
        "# 지수표현 방법 (e가 대문자말고 소문자로 해도 결과 같음)\n",
        "f = 1.23E3    # 1.23*10^3\n",
        "g = 1.23e-3   # 1.23*10^-3\n",
        "\n",
        "print(f)\n",
        "print(g)"
      ],
      "metadata": {
        "colab": {
          "base_uri": "https://localhost:8080/"
        },
        "id": "oKbv6-L09QB9",
        "outputId": "4355e3ad-55c9-4bac-8d43-366e4a0f5eb8"
      },
      "execution_count": 9,
      "outputs": [
        {
          "output_type": "stream",
          "name": "stdout",
          "text": [
            "1230.0\n",
            "0.00123\n"
          ]
        }
      ]
    },
    {
      "cell_type": "code",
      "source": [
        "# 8진수 -> 0~7까지 8개로 구현되는 숫자\n",
        "# 16진수 -> 0~F까지 16개로 구현되는 숫자\n",
        "\n",
        "h = 0o77    # 8진수 77\n",
        "print(h)    # 10진수 변환 출력 63\n",
        "\n",
        "i = 0xAA    # 16진수 AA\n",
        "print(i)    # 10진수 변환 출력 170"
      ],
      "metadata": {
        "colab": {
          "base_uri": "https://localhost:8080/"
        },
        "id": "jRVuzxvj9nz0",
        "outputId": "716edd52-e097-47d7-9a7f-e7c0b8e3bf72"
      },
      "execution_count": 14,
      "outputs": [
        {
          "output_type": "stream",
          "name": "stdout",
          "text": [
            "63\n",
            "170\n"
          ]
        }
      ]
    },
    {
      "cell_type": "markdown",
      "source": [
        "사칙연산 (+,-,*,/) -> 오칙연산 (+,-,*,/,%:나머지)"
      ],
      "metadata": {
        "id": "Mbyig32XIN37"
      }
    },
    {
      "cell_type": "code",
      "source": [
        "a = 3\n",
        "b = 4\n",
        "c = a + b\n",
        "print(c)"
      ],
      "metadata": {
        "colab": {
          "base_uri": "https://localhost:8080/"
        },
        "id": "tJY07FB6_Sgs",
        "outputId": "22989bd9-ac5b-4b7e-820a-96d5ee0509dc"
      },
      "execution_count": 31,
      "outputs": [
        {
          "output_type": "stream",
          "name": "stdout",
          "text": [
            "7\n"
          ]
        }
      ]
    },
    {
      "cell_type": "code",
      "source": [
        "d = a - b\n",
        "print(d)"
      ],
      "metadata": {
        "colab": {
          "base_uri": "https://localhost:8080/"
        },
        "id": "4TJnC6-6GJVD",
        "outputId": "f4ecbf65-5799-4171-f828-38d1d83c0668"
      },
      "execution_count": 18,
      "outputs": [
        {
          "output_type": "stream",
          "name": "stdout",
          "text": [
            "-1\n"
          ]
        }
      ]
    },
    {
      "cell_type": "code",
      "source": [
        "e = 7 % 3   # 나머지를 구하는 연산자\n",
        "print(e)"
      ],
      "metadata": {
        "colab": {
          "base_uri": "https://localhost:8080/"
        },
        "id": "ami0kkUrGMdD",
        "outputId": "f8f2c32e-ff71-4b02-dc6c-9dcf2c633a41"
      },
      "execution_count": 21,
      "outputs": [
        {
          "output_type": "stream",
          "name": "stdout",
          "text": [
            "1\n"
          ]
        }
      ]
    },
    {
      "cell_type": "code",
      "source": [
        "f = 7 / 3   # 나누기를 하는 연산자\n",
        "print(f)"
      ],
      "metadata": {
        "colab": {
          "base_uri": "https://localhost:8080/"
        },
        "id": "PUhbfh7aGcnD",
        "outputId": "4189ac43-fb5a-4307-8376-28e9ae38775e"
      },
      "execution_count": 22,
      "outputs": [
        {
          "output_type": "stream",
          "name": "stdout",
          "text": [
            "2.3333333333333335\n"
          ]
        }
      ]
    },
    {
      "cell_type": "code",
      "source": [
        "g = 7 // 3    # 나눈 몫을 구하는 연산자\n",
        "print(g)"
      ],
      "metadata": {
        "colab": {
          "base_uri": "https://localhost:8080/"
        },
        "id": "Qp96k9-OGmij",
        "outputId": "8916ec32-c80a-4153-cc26-c134541d88b0"
      },
      "execution_count": 24,
      "outputs": [
        {
          "output_type": "stream",
          "name": "stdout",
          "text": [
            "2\n"
          ]
        }
      ]
    },
    {
      "cell_type": "code",
      "source": [
        "a = 3\n",
        "b = 4\n",
        "a ** b  # a^b"
      ],
      "metadata": {
        "colab": {
          "base_uri": "https://localhost:8080/"
        },
        "id": "LuFrwsuiGzg7",
        "outputId": "e1a0f705-3cb0-45e9-fa3b-5fddca787070"
      },
      "execution_count": 25,
      "outputs": [
        {
          "output_type": "execute_result",
          "data": {
            "text/plain": [
              "81"
            ]
          },
          "metadata": {},
          "execution_count": 25
        }
      ]
    },
    {
      "cell_type": "markdown",
      "source": [
        "복합연산자"
      ],
      "metadata": {
        "id": "XWL9ln2GH1iz"
      }
    },
    {
      "cell_type": "code",
      "source": [
        "a = 1\n",
        "a = a + 1   # a = 1 + 1\n",
        "print(a)"
      ],
      "metadata": {
        "colab": {
          "base_uri": "https://localhost:8080/"
        },
        "id": "cHGZIpKHHU5D",
        "outputId": "ff5f9055-9a85-4c14-948d-9215b8dbd98f"
      },
      "execution_count": 28,
      "outputs": [
        {
          "output_type": "stream",
          "name": "stdout",
          "text": [
            "2\n"
          ]
        }
      ]
    },
    {
      "cell_type": "code",
      "source": [
        "a += 1\n",
        "print(a)\n",
        "\n",
        "# 유사 형태 -=, *=, /=, %="
      ],
      "metadata": {
        "colab": {
          "base_uri": "https://localhost:8080/"
        },
        "id": "Ve2kBK8qHqqT",
        "outputId": "e8c148b1-0987-4089-cd87-190f34e8c061"
      },
      "execution_count": 30,
      "outputs": [
        {
          "output_type": "stream",
          "name": "stdout",
          "text": [
            "4\n"
          ]
        }
      ]
    }
  ]
}