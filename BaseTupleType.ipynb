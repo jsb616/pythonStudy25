{
  "nbformat": 4,
  "nbformat_minor": 0,
  "metadata": {
    "colab": {
      "provenance": [],
      "authorship_tag": "ABX9TyOxSIkDOPcOOHv9QPg050V3",
      "include_colab_link": true
    },
    "kernelspec": {
      "name": "python3",
      "display_name": "Python 3"
    },
    "language_info": {
      "name": "python"
    }
  },
  "cells": [
    {
      "cell_type": "markdown",
      "metadata": {
        "id": "view-in-github",
        "colab_type": "text"
      },
      "source": [
        "<a href=\"https://colab.research.google.com/github/jsb616/pythonStudy25/blob/master/BaseTupleType.ipynb\" target=\"_parent\"><img src=\"https://colab.research.google.com/assets/colab-badge.svg\" alt=\"Open In Colab\"/></a>"
      ]
    },
    {
      "cell_type": "markdown",
      "source": [
        "튜플은 요소값의 수정과 삭제가 불가능!!\n",
        "\n",
        "그래서 요소값이 변하지 말아야 하는 것들에 대해서 튜플을 사용한다. (보안상)"
      ],
      "metadata": {
        "id": "sxNv-6GFeEzH"
      }
    },
    {
      "cell_type": "markdown",
      "source": [
        "튜플 만들기"
      ],
      "metadata": {
        "id": "o5iw-nwhebQO"
      }
    },
    {
      "cell_type": "code",
      "execution_count": 2,
      "metadata": {
        "colab": {
          "base_uri": "https://localhost:8080/"
        },
        "id": "43iaht68dqM6",
        "outputId": "92d59b64-b62c-42cc-87c1-32c7c1d9a550"
      },
      "outputs": [
        {
          "output_type": "stream",
          "name": "stdout",
          "text": [
            "()\n",
            "(1,)\n",
            "(1, 2, 3)\n",
            "(1, 2, 3)\n",
            "('a', 'b', ('aa', 'ab'))\n",
            "(1, 2, 'a')\n"
          ]
        }
      ],
      "source": [
        "t1 = ()\n",
        "t2 = (1,)   # 요소가 1개일 경우 뒤에 쉼표(,)를 반드시 붙여야 함\n",
        "t3 = (1, 2, 3)\n",
        "t4 = 1, 2, 3\n",
        "t5 = ('a', 'b', ('aa', 'ab'))\n",
        "t6 = (1, 2, 'a')\n",
        "\n",
        "print(t1)\n",
        "print(t2)\n",
        "print(t3)\n",
        "print(t4)\n",
        "print(t5)\n",
        "print(t6)"
      ]
    },
    {
      "cell_type": "markdown",
      "source": [
        "튜플의 요소값 수정 및 삭제 <- 오류 발생"
      ],
      "metadata": {
        "id": "BbYRN8AYfs3m"
      }
    },
    {
      "cell_type": "code",
      "source": [
        "t1 = (1, 2, 3, 4, 5)\n",
        "del t1[0]"
      ],
      "metadata": {
        "colab": {
          "base_uri": "https://localhost:8080/",
          "height": 166
        },
        "id": "3FFi--NBfcRH",
        "outputId": "7dca8540-2537-4eac-83f0-cfd60f6b53f7"
      },
      "execution_count": 3,
      "outputs": [
        {
          "output_type": "error",
          "ename": "TypeError",
          "evalue": "'tuple' object doesn't support item deletion",
          "traceback": [
            "\u001b[0;31m---------------------------------------------------------------------------\u001b[0m",
            "\u001b[0;31mTypeError\u001b[0m                                 Traceback (most recent call last)",
            "\u001b[0;32m<ipython-input-3-12a75e04e5d6>\u001b[0m in \u001b[0;36m<cell line: 0>\u001b[0;34m()\u001b[0m\n\u001b[1;32m      1\u001b[0m \u001b[0mt1\u001b[0m \u001b[0;34m=\u001b[0m \u001b[0;34m(\u001b[0m\u001b[0;36m1\u001b[0m\u001b[0;34m,\u001b[0m \u001b[0;36m2\u001b[0m\u001b[0;34m,\u001b[0m \u001b[0;36m3\u001b[0m\u001b[0;34m,\u001b[0m \u001b[0;36m4\u001b[0m\u001b[0;34m,\u001b[0m \u001b[0;36m5\u001b[0m\u001b[0;34m)\u001b[0m\u001b[0;34m\u001b[0m\u001b[0;34m\u001b[0m\u001b[0m\n\u001b[0;32m----> 2\u001b[0;31m \u001b[0;32mdel\u001b[0m \u001b[0mt1\u001b[0m\u001b[0;34m[\u001b[0m\u001b[0;36m0\u001b[0m\u001b[0;34m]\u001b[0m\u001b[0;34m\u001b[0m\u001b[0;34m\u001b[0m\u001b[0m\n\u001b[0m",
            "\u001b[0;31mTypeError\u001b[0m: 'tuple' object doesn't support item deletion"
          ]
        }
      ]
    },
    {
      "cell_type": "code",
      "source": [
        "t1 = (1, 2, 3, 5)\n",
        "t1[3] = 4\n",
        "t1"
      ],
      "metadata": {
        "colab": {
          "base_uri": "https://localhost:8080/",
          "height": 184
        },
        "id": "mvEPkkYZf7tW",
        "outputId": "5a0de861-e0cd-4644-e2cb-8eff509afb59"
      },
      "execution_count": 4,
      "outputs": [
        {
          "output_type": "error",
          "ename": "TypeError",
          "evalue": "'tuple' object does not support item assignment",
          "traceback": [
            "\u001b[0;31m---------------------------------------------------------------------------\u001b[0m",
            "\u001b[0;31mTypeError\u001b[0m                                 Traceback (most recent call last)",
            "\u001b[0;32m<ipython-input-4-a0101d8d5a66>\u001b[0m in \u001b[0;36m<cell line: 0>\u001b[0;34m()\u001b[0m\n\u001b[1;32m      1\u001b[0m \u001b[0mt1\u001b[0m \u001b[0;34m=\u001b[0m \u001b[0;34m(\u001b[0m\u001b[0;36m1\u001b[0m\u001b[0;34m,\u001b[0m \u001b[0;36m2\u001b[0m\u001b[0;34m,\u001b[0m \u001b[0;36m3\u001b[0m\u001b[0;34m,\u001b[0m \u001b[0;36m5\u001b[0m\u001b[0;34m)\u001b[0m\u001b[0;34m\u001b[0m\u001b[0;34m\u001b[0m\u001b[0m\n\u001b[0;32m----> 2\u001b[0;31m \u001b[0mt1\u001b[0m\u001b[0;34m[\u001b[0m\u001b[0;36m3\u001b[0m\u001b[0;34m]\u001b[0m \u001b[0;34m=\u001b[0m \u001b[0;36m4\u001b[0m\u001b[0;34m\u001b[0m\u001b[0;34m\u001b[0m\u001b[0m\n\u001b[0m\u001b[1;32m      3\u001b[0m \u001b[0mt1\u001b[0m\u001b[0;34m\u001b[0m\u001b[0;34m\u001b[0m\u001b[0m\n",
            "\u001b[0;31mTypeError\u001b[0m: 'tuple' object does not support item assignment"
          ]
        }
      ]
    },
    {
      "cell_type": "markdown",
      "source": [
        "인덱싱"
      ],
      "metadata": {
        "id": "LvHEwWuugL72"
      }
    },
    {
      "cell_type": "code",
      "source": [
        "t1 = (1, 2, 3, 4, 5)\n",
        "t1[0]"
      ],
      "metadata": {
        "colab": {
          "base_uri": "https://localhost:8080/"
        },
        "id": "NKGB5vl1gEcF",
        "outputId": "250daf92-5ba0-4d70-b36a-f89f1b4635dd"
      },
      "execution_count": 5,
      "outputs": [
        {
          "output_type": "execute_result",
          "data": {
            "text/plain": [
              "1"
            ]
          },
          "metadata": {},
          "execution_count": 5
        }
      ]
    },
    {
      "cell_type": "code",
      "source": [
        "t1 = (1, 2, 3, 4, 5)\n",
        "t1[-1]"
      ],
      "metadata": {
        "colab": {
          "base_uri": "https://localhost:8080/"
        },
        "id": "uf-9KZybgSrd",
        "outputId": "93e10349-1924-47c8-d8a1-c8f5b2cf0bb0"
      },
      "execution_count": 6,
      "outputs": [
        {
          "output_type": "execute_result",
          "data": {
            "text/plain": [
              "5"
            ]
          },
          "metadata": {},
          "execution_count": 6
        }
      ]
    },
    {
      "cell_type": "markdown",
      "source": [
        "슬라이싱"
      ],
      "metadata": {
        "id": "RuorbPF6gX3u"
      }
    },
    {
      "cell_type": "code",
      "source": [
        "t1 = (1, 2, 3, 4, 5)\n",
        "t1[2:-1]"
      ],
      "metadata": {
        "colab": {
          "base_uri": "https://localhost:8080/"
        },
        "id": "EJz_I2o2gWt9",
        "outputId": "288b4af1-190a-4508-c0e8-39503ab58e87"
      },
      "execution_count": 8,
      "outputs": [
        {
          "output_type": "execute_result",
          "data": {
            "text/plain": [
              "(3, 4)"
            ]
          },
          "metadata": {},
          "execution_count": 8
        }
      ]
    },
    {
      "cell_type": "markdown",
      "source": [
        "더하기"
      ],
      "metadata": {
        "id": "0hm51h3Ugjst"
      }
    },
    {
      "cell_type": "code",
      "source": [
        "t1 = (1, 2)\n",
        "t2 = 3, 4\n",
        "t3 = t1 + t2\n",
        "print(t3)"
      ],
      "metadata": {
        "colab": {
          "base_uri": "https://localhost:8080/"
        },
        "id": "1QwqucJ7gbOF",
        "outputId": "a37f9e3c-db0c-4111-ce7d-fb6135616f6c"
      },
      "execution_count": 9,
      "outputs": [
        {
          "output_type": "stream",
          "name": "stdout",
          "text": [
            "(1, 2, 3, 4)\n"
          ]
        }
      ]
    },
    {
      "cell_type": "markdown",
      "source": [
        "곱하기"
      ],
      "metadata": {
        "id": "soHrCJzFgt4m"
      }
    },
    {
      "cell_type": "code",
      "source": [
        "t1 = 1,\n",
        "t2 = t1 * 5\n",
        "print(t2)"
      ],
      "metadata": {
        "colab": {
          "base_uri": "https://localhost:8080/"
        },
        "id": "eeoWIXZZgsXV",
        "outputId": "465f6b32-7b60-4b0b-ed9c-b32366788897"
      },
      "execution_count": 10,
      "outputs": [
        {
          "output_type": "stream",
          "name": "stdout",
          "text": [
            "(1, 1, 1, 1, 1)\n"
          ]
        }
      ]
    },
    {
      "cell_type": "markdown",
      "source": [
        "길이 구하기"
      ],
      "metadata": {
        "id": "SjhmCzozg1vt"
      }
    },
    {
      "cell_type": "code",
      "source": [
        "t1 = 10, 20, 30, 40, 50\n",
        "len(t1)"
      ],
      "metadata": {
        "colab": {
          "base_uri": "https://localhost:8080/"
        },
        "id": "TP8aOq3Fgz01",
        "outputId": "9ebb08ba-e2a6-4611-8832-cd8ecddf8655"
      },
      "execution_count": 11,
      "outputs": [
        {
          "output_type": "execute_result",
          "data": {
            "text/plain": [
              "5"
            ]
          },
          "metadata": {},
          "execution_count": 11
        }
      ]
    },
    {
      "cell_type": "markdown",
      "source": [
        "튜플은 요소값의 수정과 삭제가 불가능하기 때문에 리스트처럼 sort, insert, remove 등이 불가능"
      ],
      "metadata": {
        "id": "iMX7BhaJg8r9"
      }
    }
  ]
}