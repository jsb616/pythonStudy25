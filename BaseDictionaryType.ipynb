{
  "nbformat": 4,
  "nbformat_minor": 0,
  "metadata": {
    "colab": {
      "provenance": [],
      "authorship_tag": "ABX9TyMZctvfTaQeviJedAqACpWT",
      "include_colab_link": true
    },
    "kernelspec": {
      "name": "python3",
      "display_name": "Python 3"
    },
    "language_info": {
      "name": "python"
    }
  },
  "cells": [
    {
      "cell_type": "markdown",
      "metadata": {
        "id": "view-in-github",
        "colab_type": "text"
      },
      "source": [
        "<a href=\"https://colab.research.google.com/github/jsb616/pythonStudy25/blob/master/BaseDictionaryType.ipynb\" target=\"_parent\"><img src=\"https://colab.research.google.com/assets/colab-badge.svg\" alt=\"Open In Colab\"/></a>"
      ]
    },
    {
      "cell_type": "markdown",
      "source": [
        "딕셔너리 dictionary = 연관 배열 associative array = 해시 hash"
      ],
      "metadata": {
        "id": "4VCYBNR6hiA-"
      }
    },
    {
      "cell_type": "markdown",
      "source": [
        "딕셔너리는 key와 value를 한쌍으로 가지는 자료형"
      ],
      "metadata": {
        "id": "226GElHNh4-l"
      }
    },
    {
      "cell_type": "code",
      "execution_count": 3,
      "metadata": {
        "colab": {
          "base_uri": "https://localhost:8080/"
        },
        "id": "6srBvfxyhIU5",
        "outputId": "f2e90933-933f-4056-aec9-df757632475d"
      },
      "outputs": [
        {
          "output_type": "stream",
          "name": "stdout",
          "text": [
            "{'name': '홍길동', 'phone': '010-1111-2222', 'age': 30}\n",
            "{1: ['a', 'b'], 2: ['c', 'd']}\n"
          ]
        }
      ],
      "source": [
        "# 딕셔너리 만들기\n",
        "dic1 = {'name':'홍길동', 'phone':'010-1111-2222', 'age':30}\n",
        "dic2 = {1:['a', 'b'], 2:['c', 'd']}\n",
        "print(dic1)\n",
        "print(dic2)"
      ]
    },
    {
      "cell_type": "markdown",
      "source": [
        "딕셔너리 쌍 추가"
      ],
      "metadata": {
        "id": "hPdRhy8Yi5re"
      }
    },
    {
      "cell_type": "code",
      "source": [
        "dic1 = {1:'a'}\n",
        "dic1[2] = 'b'\n",
        "dic1[5] = 'e'\n",
        "dic1"
      ],
      "metadata": {
        "colab": {
          "base_uri": "https://localhost:8080/"
        },
        "id": "smU1uTJViiOP",
        "outputId": "830fd450-8589-4314-fcd6-5c2728450445"
      },
      "execution_count": 7,
      "outputs": [
        {
          "output_type": "execute_result",
          "data": {
            "text/plain": [
              "{1: 'a', 2: 'b', 5: 'e'}"
            ]
          },
          "metadata": {},
          "execution_count": 7
        }
      ]
    },
    {
      "cell_type": "code",
      "source": [
        "dic1['key'] = 'value'\n",
        "dic1"
      ],
      "metadata": {
        "colab": {
          "base_uri": "https://localhost:8080/"
        },
        "id": "pqtbkRkPjPIl",
        "outputId": "b19b9267-0154-4306-a26d-ed4e70787660"
      },
      "execution_count": 8,
      "outputs": [
        {
          "output_type": "execute_result",
          "data": {
            "text/plain": [
              "{1: 'a', 2: 'b', 5: 'e', 'key': 'value'}"
            ]
          },
          "metadata": {},
          "execution_count": 8
        }
      ]
    },
    {
      "cell_type": "markdown",
      "source": [
        "딕셔너리 요소 삭제"
      ],
      "metadata": {
        "id": "u9VhHsDKjaGl"
      }
    },
    {
      "cell_type": "code",
      "source": [
        "del dic1['key']\n",
        "del dic1[5]\n",
        "dic1"
      ],
      "metadata": {
        "colab": {
          "base_uri": "https://localhost:8080/"
        },
        "id": "5yLTC4oGjXwV",
        "outputId": "73d90342-7865-4c55-ba5f-bf367ae45c14"
      },
      "execution_count": 9,
      "outputs": [
        {
          "output_type": "execute_result",
          "data": {
            "text/plain": [
              "{1: 'a', 2: 'b'}"
            ]
          },
          "metadata": {},
          "execution_count": 9
        }
      ]
    },
    {
      "cell_type": "markdown",
      "source": [
        "딕셔너리 활용"
      ],
      "metadata": {
        "id": "ESvZxPaEjthN"
      }
    },
    {
      "cell_type": "code",
      "source": [
        "# 딕셔너리에서 key를 사용해 value 얻기\n",
        "person = {'name':'홍길동', 'phone':'010-1111-2222', 'age':30}\n",
        "print(person['name'])\n",
        "print(person['age'])"
      ],
      "metadata": {
        "colab": {
          "base_uri": "https://localhost:8080/"
        },
        "id": "t0qTQRlFjf8t",
        "outputId": "87d0cf2a-5df7-4907-abeb-ef0d06fcb72e"
      },
      "execution_count": 10,
      "outputs": [
        {
          "output_type": "stream",
          "name": "stdout",
          "text": [
            "홍길동\n",
            "30\n"
          ]
        }
      ]
    },
    {
      "cell_type": "markdown",
      "source": [
        "딕셔너리에서 key는 고유값이기 때문에 중복되면 하나를 제외한 나머지는 무시된다."
      ],
      "metadata": {
        "id": "EsxfyGvIkhdt"
      }
    },
    {
      "cell_type": "code",
      "source": [
        "dic1 = {1:'a', 1:'b'}\n",
        "dic1"
      ],
      "metadata": {
        "colab": {
          "base_uri": "https://localhost:8080/"
        },
        "id": "WiJ7kFHxkdbV",
        "outputId": "c68842e6-d1b6-4e00-c246-55d6d423ff2b"
      },
      "execution_count": 11,
      "outputs": [
        {
          "output_type": "execute_result",
          "data": {
            "text/plain": [
              "{1: 'b'}"
            ]
          },
          "metadata": {},
          "execution_count": 11
        }
      ]
    },
    {
      "cell_type": "markdown",
      "source": [
        "딕셔너리에서 key값에 리스트가 들어갈 수 없다."
      ],
      "metadata": {
        "id": "BcLI27qHk0xV"
      }
    },
    {
      "cell_type": "code",
      "source": [
        "dic2 = {[1, 2]:'a'}\n",
        "dic2"
      ],
      "metadata": {
        "colab": {
          "base_uri": "https://localhost:8080/",
          "height": 166
        },
        "id": "VRetpwe1kwkc",
        "outputId": "ee337b40-8990-48aa-c38c-7d159d2e4a9f"
      },
      "execution_count": 12,
      "outputs": [
        {
          "output_type": "error",
          "ename": "TypeError",
          "evalue": "unhashable type: 'list'",
          "traceback": [
            "\u001b[0;31m---------------------------------------------------------------------------\u001b[0m",
            "\u001b[0;31mTypeError\u001b[0m                                 Traceback (most recent call last)",
            "\u001b[0;32m<ipython-input-12-83fc33842b21>\u001b[0m in \u001b[0;36m<cell line: 0>\u001b[0;34m()\u001b[0m\n\u001b[0;32m----> 1\u001b[0;31m \u001b[0mdic2\u001b[0m \u001b[0;34m=\u001b[0m \u001b[0;34m{\u001b[0m\u001b[0;34m[\u001b[0m\u001b[0;36m1\u001b[0m\u001b[0;34m,\u001b[0m \u001b[0;36m2\u001b[0m\u001b[0;34m]\u001b[0m\u001b[0;34m:\u001b[0m\u001b[0;34m'a'\u001b[0m\u001b[0;34m}\u001b[0m\u001b[0;34m\u001b[0m\u001b[0;34m\u001b[0m\u001b[0m\n\u001b[0m\u001b[1;32m      2\u001b[0m \u001b[0mdic2\u001b[0m\u001b[0;34m\u001b[0m\u001b[0;34m\u001b[0m\u001b[0m\n",
            "\u001b[0;31mTypeError\u001b[0m: unhashable type: 'list'"
          ]
        }
      ]
    },
    {
      "cell_type": "markdown",
      "source": [
        "딕셔너리 관련 함수"
      ],
      "metadata": {
        "id": "dktRBVPclDMl"
      }
    },
    {
      "cell_type": "code",
      "source": [
        "# keys : 모든 key값으로 만든 dict_keys 객체 리턴\n",
        "dic1 = {'name': 'pey', 'phone': '010-9999-1234', 'birth': '1118'}\n",
        "print(dic1.keys())\n",
        "print(list(dic1.keys()))    # 리스트로"
      ],
      "metadata": {
        "colab": {
          "base_uri": "https://localhost:8080/"
        },
        "id": "a3pxLd5Wk8Ot",
        "outputId": "f5e5376b-fb5f-4799-bab1-1586a7491a56"
      },
      "execution_count": 13,
      "outputs": [
        {
          "output_type": "stream",
          "name": "stdout",
          "text": [
            "dict_keys(['name', 'phone', 'birth'])\n",
            "['name', 'phone', 'birth']\n"
          ]
        }
      ]
    },
    {
      "cell_type": "code",
      "source": [
        "# values : 모든 vaule값으로 만든 dict_values 객체 리턴\n",
        "dic1 = {'name': 'pey', 'phone': '010-9999-1234', 'birth': '1118'}\n",
        "print(dic1.values())\n",
        "print(list(dic1.values()))"
      ],
      "metadata": {
        "colab": {
          "base_uri": "https://localhost:8080/"
        },
        "id": "P7H1KZvDmn8V",
        "outputId": "b89cfbbf-9c6f-4e0c-fb28-8cba44c05a26"
      },
      "execution_count": 14,
      "outputs": [
        {
          "output_type": "stream",
          "name": "stdout",
          "text": [
            "dict_values(['pey', '010-9999-1234', '1118'])\n",
            "['pey', '010-9999-1234', '1118']\n"
          ]
        }
      ]
    },
    {
      "cell_type": "code",
      "source": [
        "# items : 모든 key와 value값의 쌍으로 만든 dict_items 객체 리턴\n",
        "dic1 = {'name': 'pey', 'phone': '010-9999-1234', 'birth': '1118'}\n",
        "print(dic1.items())\n",
        "print(list(dic1.items()))"
      ],
      "metadata": {
        "colab": {
          "base_uri": "https://localhost:8080/"
        },
        "id": "WRmJlu4cnFS0",
        "outputId": "0497d139-c43f-430f-93e6-b20135dbdb04"
      },
      "execution_count": 15,
      "outputs": [
        {
          "output_type": "stream",
          "name": "stdout",
          "text": [
            "dict_items([('name', 'pey'), ('phone', '010-9999-1234'), ('birth', '1118')])\n",
            "[('name', 'pey'), ('phone', '010-9999-1234'), ('birth', '1118')]\n"
          ]
        }
      ]
    },
    {
      "cell_type": "code",
      "source": [
        "# 딕셔너리의 모든 요소 삭제\n",
        "dic1 = {'name': 'pey', 'phone': '010-9999-1234', 'birth': '1118'}\n",
        "dic1.clear()\n",
        "dic1"
      ],
      "metadata": {
        "colab": {
          "base_uri": "https://localhost:8080/"
        },
        "id": "eJcENvpAnX4s",
        "outputId": "0125a3ca-e32a-42f1-a498-6957a561b7e7"
      },
      "execution_count": 16,
      "outputs": [
        {
          "output_type": "execute_result",
          "data": {
            "text/plain": [
              "{}"
            ]
          },
          "metadata": {},
          "execution_count": 16
        }
      ]
    },
    {
      "cell_type": "code",
      "source": [
        "# get : key로 value 얻기\n",
        "# a.get(key)와 a[key]는 동일한 값을 리턴하지만\n",
        "# 존재하지 않는 키로 값을 가져오려고 하는 경우, get()은 None을 리턴하지만 a[key]는 오류가 발생한다\n",
        "dic1 = {'name': 'pey', 'phone': '010-9999-1234', 'birth': '1118'}\n",
        "dic1.get('phone')"
      ],
      "metadata": {
        "colab": {
          "base_uri": "https://localhost:8080/",
          "height": 35
        },
        "id": "5MLG5II1noo0",
        "outputId": "99c45f7a-ed66-4d7e-ae12-3675af505447"
      },
      "execution_count": 1,
      "outputs": [
        {
          "output_type": "execute_result",
          "data": {
            "text/plain": [
              "'010-9999-1234'"
            ],
            "application/vnd.google.colaboratory.intrinsic+json": {
              "type": "string"
            }
          },
          "metadata": {},
          "execution_count": 1
        }
      ]
    },
    {
      "cell_type": "code",
      "source": [
        "print(dic1.get('age'))"
      ],
      "metadata": {
        "colab": {
          "base_uri": "https://localhost:8080/"
        },
        "id": "y4rKpg1cDZsw",
        "outputId": "244175db-e53e-47df-ee9c-5e0872195725"
      },
      "execution_count": 3,
      "outputs": [
        {
          "output_type": "stream",
          "name": "stdout",
          "text": [
            "None\n"
          ]
        }
      ]
    },
    {
      "cell_type": "code",
      "source": [
        "dic1['age']"
      ],
      "metadata": {
        "colab": {
          "base_uri": "https://localhost:8080/",
          "height": 147
        },
        "id": "zbj1CSa0DbYv",
        "outputId": "9dc74cfe-9b1a-4abb-95a9-5e7488fd5ce5"
      },
      "execution_count": 4,
      "outputs": [
        {
          "output_type": "error",
          "ename": "KeyError",
          "evalue": "'age'",
          "traceback": [
            "\u001b[0;31m---------------------------------------------------------------------------\u001b[0m",
            "\u001b[0;31mKeyError\u001b[0m                                  Traceback (most recent call last)",
            "\u001b[0;32m<ipython-input-4-eae7aebc758e>\u001b[0m in \u001b[0;36m<cell line: 0>\u001b[0;34m()\u001b[0m\n\u001b[0;32m----> 1\u001b[0;31m \u001b[0mdic1\u001b[0m\u001b[0;34m[\u001b[0m\u001b[0;34m'age'\u001b[0m\u001b[0;34m]\u001b[0m\u001b[0;34m\u001b[0m\u001b[0;34m\u001b[0m\u001b[0m\n\u001b[0m",
            "\u001b[0;31mKeyError\u001b[0m: 'age'"
          ]
        }
      ]
    },
    {
      "cell_type": "code",
      "source": [
        "# key가 존재하지 않는 경우, 미리 정해둔 디폴트 값을 대신 가져오도록 하는 게 가능\n",
        "dic1.get('age', 'wrong')"
      ],
      "metadata": {
        "colab": {
          "base_uri": "https://localhost:8080/",
          "height": 35
        },
        "id": "AMHX8lrGDh4n",
        "outputId": "f67eee62-a687-4288-b995-a15c8e1c7dd9"
      },
      "execution_count": 5,
      "outputs": [
        {
          "output_type": "execute_result",
          "data": {
            "text/plain": [
              "'wrong'"
            ],
            "application/vnd.google.colaboratory.intrinsic+json": {
              "type": "string"
            }
          },
          "metadata": {},
          "execution_count": 5
        }
      ]
    },
    {
      "cell_type": "code",
      "source": [
        "# in : 해당 key가 딕셔너리 안에 있는지\n",
        "dic1 = {'name': 'pey', 'phone': '010-9999-1234', 'birth': '1118'}\n",
        "print('name' in dic1)\n",
        "print('age' in dic1)"
      ],
      "metadata": {
        "colab": {
          "base_uri": "https://localhost:8080/"
        },
        "id": "Mfu1WmYtD0n3",
        "outputId": "735c36b7-e71b-4c65-b4a9-25fd33f1c048"
      },
      "execution_count": 6,
      "outputs": [
        {
          "output_type": "stream",
          "name": "stdout",
          "text": [
            "True\n",
            "False\n"
          ]
        }
      ]
    }
  ]
}