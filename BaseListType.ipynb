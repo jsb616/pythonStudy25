{
  "nbformat": 4,
  "nbformat_minor": 0,
  "metadata": {
    "colab": {
      "provenance": [],
      "authorship_tag": "ABX9TyNt3sQaU15tonT66700Ai9m",
      "include_colab_link": true
    },
    "kernelspec": {
      "name": "python3",
      "display_name": "Python 3"
    },
    "language_info": {
      "name": "python"
    }
  },
  "cells": [
    {
      "cell_type": "markdown",
      "metadata": {
        "id": "view-in-github",
        "colab_type": "text"
      },
      "source": [
        "<a href=\"https://colab.research.google.com/github/jsb616/pythonStudy25/blob/master/BaseListType.ipynb\" target=\"_parent\"><img src=\"https://colab.research.google.com/assets/colab-badge.svg\" alt=\"Open In Colab\"/></a>"
      ]
    },
    {
      "cell_type": "markdown",
      "source": [
        "리스트 만들기"
      ],
      "metadata": {
        "id": "B8sXCt_wUA6Y"
      }
    },
    {
      "cell_type": "code",
      "source": [
        "a = []\n",
        "b = list()\n",
        "c = [1, 2, 3]\n",
        "d = ['a', 'b', 'c']\n",
        "e = [1, 2, 'a', 'b']\n",
        "\n",
        "print(a)\n",
        "print(b)\n",
        "print(c)\n",
        "print(d)\n",
        "print(e)"
      ],
      "metadata": {
        "colab": {
          "base_uri": "https://localhost:8080/"
        },
        "id": "mMc7O-n4TnAg",
        "outputId": "0a40cd81-f0ee-4b03-f014-24674bf8db12"
      },
      "execution_count": 3,
      "outputs": [
        {
          "output_type": "stream",
          "name": "stdout",
          "text": [
            "[]\n",
            "[]\n",
            "[1, 2, 3]\n",
            "['a', 'b', 'c']\n",
            "[1, 2, 'a', 'b']\n"
          ]
        }
      ]
    },
    {
      "cell_type": "markdown",
      "source": [
        "리스트 인덱싱 & 슬라이싱"
      ],
      "metadata": {
        "id": "HTidtt0VT7so"
      }
    },
    {
      "cell_type": "code",
      "execution_count": 1,
      "metadata": {
        "colab": {
          "base_uri": "https://localhost:8080/"
        },
        "id": "weWavqViPyrU",
        "outputId": "2992abf3-8971-4c8a-a2ae-f2fc6ca9d403"
      },
      "outputs": [
        {
          "output_type": "stream",
          "name": "stdout",
          "text": [
            "1\n",
            "['a', 'b', 'c']\n",
            "a\n"
          ]
        }
      ],
      "source": [
        "a = [1, 2, 3, ['a', 'b', 'c']]\n",
        "\n",
        "print(a[0])\n",
        "print(a[3])\n",
        "print(a[3][0])"
      ]
    },
    {
      "cell_type": "code",
      "source": [
        "b = [1, 2, ['a', 'b', ['Life', 'is']]]\n",
        "b[-1][-1][0]"
      ],
      "metadata": {
        "colab": {
          "base_uri": "https://localhost:8080/",
          "height": 35
        },
        "id": "bBLqmulkSdXp",
        "outputId": "19cfef49-f487-4927-8c22-524f4edbee51"
      },
      "execution_count": 2,
      "outputs": [
        {
          "output_type": "execute_result",
          "data": {
            "text/plain": [
              "'Life'"
            ],
            "application/vnd.google.colaboratory.intrinsic+json": {
              "type": "string"
            }
          },
          "metadata": {},
          "execution_count": 2
        }
      ]
    },
    {
      "cell_type": "code",
      "source": [
        "a = [1, 2, 3, ['a', 'b', 'c']]\n",
        "print(a[0:3])\n",
        "print(a[:2])\n",
        "print(a[2:])\n",
        "print(a[3][:1])"
      ],
      "metadata": {
        "colab": {
          "base_uri": "https://localhost:8080/"
        },
        "id": "8hqij6HBUGMo",
        "outputId": "971a2659-745e-4b2e-d87c-2bf079feb5aa"
      },
      "execution_count": 6,
      "outputs": [
        {
          "output_type": "stream",
          "name": "stdout",
          "text": [
            "[1, 2, 3]\n",
            "[1, 2]\n",
            "[3, ['a', 'b', 'c']]\n",
            "['a']\n"
          ]
        }
      ]
    },
    {
      "cell_type": "markdown",
      "source": [
        "리스트 연산"
      ],
      "metadata": {
        "id": "Be4Xhi-DTD2x"
      }
    },
    {
      "cell_type": "code",
      "source": [
        "# 더하기\n",
        "a = [10, 20, 30]\n",
        "b = [40, 50]\n",
        "print(a + b)"
      ],
      "metadata": {
        "colab": {
          "base_uri": "https://localhost:8080/"
        },
        "id": "Y4i05CYAS_vA",
        "outputId": "6467e76b-7a3a-49e9-afd3-d523a0396578"
      },
      "execution_count": 7,
      "outputs": [
        {
          "output_type": "stream",
          "name": "stdout",
          "text": [
            "[10, 20, 30, 40, 50]\n"
          ]
        }
      ]
    },
    {
      "cell_type": "code",
      "source": [
        "# 곱하기\n",
        "a = [0]\n",
        "a * 10"
      ],
      "metadata": {
        "colab": {
          "base_uri": "https://localhost:8080/"
        },
        "id": "_kSrOB_mU1mI",
        "outputId": "10d30ea9-392e-49b1-e848-ae0bffbe2e00"
      },
      "execution_count": 9,
      "outputs": [
        {
          "output_type": "execute_result",
          "data": {
            "text/plain": [
              "[0, 0, 0, 0, 0, 0, 0, 0, 0, 0]"
            ]
          },
          "metadata": {},
          "execution_count": 9
        }
      ]
    },
    {
      "cell_type": "markdown",
      "source": [
        "리스트 길이"
      ],
      "metadata": {
        "id": "a5Sy3k4BVLqw"
      }
    },
    {
      "cell_type": "code",
      "source": [
        "a = [0] * 5\n",
        "print(a)\n",
        "len(a)"
      ],
      "metadata": {
        "colab": {
          "base_uri": "https://localhost:8080/"
        },
        "id": "1fHSBIXRU_Q3",
        "outputId": "36ec1f97-e215-4bc7-ace3-54db54e4e83e"
      },
      "execution_count": 11,
      "outputs": [
        {
          "output_type": "stream",
          "name": "stdout",
          "text": [
            "[0, 0, 0, 0, 0]\n"
          ]
        },
        {
          "output_type": "execute_result",
          "data": {
            "text/plain": [
              "5"
            ]
          },
          "metadata": {},
          "execution_count": 11
        }
      ]
    },
    {
      "cell_type": "markdown",
      "source": [
        "리스트 수정 및 삭제"
      ],
      "metadata": {
        "id": "uV_k9nkxVeLx"
      }
    },
    {
      "cell_type": "code",
      "source": [
        "# 값 수정\n",
        "a = [1, 2, 3, 5]\n",
        "a[3] = 4\n",
        "print(a)"
      ],
      "metadata": {
        "colab": {
          "base_uri": "https://localhost:8080/"
        },
        "id": "_PwVroKLVSpv",
        "outputId": "656e6a81-447c-4602-eb8d-3f7a8934df6e"
      },
      "execution_count": 12,
      "outputs": [
        {
          "output_type": "stream",
          "name": "stdout",
          "text": [
            "[1, 2, 3, 4]\n"
          ]
        }
      ]
    },
    {
      "cell_type": "code",
      "source": [
        "# 요소 삭제\n",
        "b = [0, 10, 20, 30]\n",
        "del b[0]\n",
        "b"
      ],
      "metadata": {
        "colab": {
          "base_uri": "https://localhost:8080/"
        },
        "id": "OVZbrBW1VpAn",
        "outputId": "474df17b-2ddc-4be5-987a-c36f1a670578"
      },
      "execution_count": 16,
      "outputs": [
        {
          "output_type": "execute_result",
          "data": {
            "text/plain": [
              "[10, 20, 30]"
            ]
          },
          "metadata": {},
          "execution_count": 16
        }
      ]
    },
    {
      "cell_type": "code",
      "source": [
        "del b\n",
        "print(b)    # b가 삭제되었기 때문에 오류 발생"
      ],
      "metadata": {
        "colab": {
          "base_uri": "https://localhost:8080/",
          "height": 166
        },
        "id": "Npi2DyuFVzrP",
        "outputId": "bf7e7f02-b27a-46de-8aba-647925eab368"
      },
      "execution_count": 17,
      "outputs": [
        {
          "output_type": "error",
          "ename": "NameError",
          "evalue": "name 'b' is not defined",
          "traceback": [
            "\u001b[0;31m---------------------------------------------------------------------------\u001b[0m",
            "\u001b[0;31mNameError\u001b[0m                                 Traceback (most recent call last)",
            "\u001b[0;32m<ipython-input-17-29585006acfc>\u001b[0m in \u001b[0;36m<cell line: 0>\u001b[0;34m()\u001b[0m\n\u001b[1;32m      1\u001b[0m \u001b[0;32mdel\u001b[0m \u001b[0mb\u001b[0m\u001b[0;34m\u001b[0m\u001b[0;34m\u001b[0m\u001b[0m\n\u001b[0;32m----> 2\u001b[0;31m \u001b[0mprint\u001b[0m\u001b[0;34m(\u001b[0m\u001b[0mb\u001b[0m\u001b[0;34m)\u001b[0m    \u001b[0;31m# b가 삭제되었기 때문에 오류 발생\u001b[0m\u001b[0;34m\u001b[0m\u001b[0;34m\u001b[0m\u001b[0m\n\u001b[0m",
            "\u001b[0;31mNameError\u001b[0m: name 'b' is not defined"
          ]
        }
      ]
    },
    {
      "cell_type": "markdown",
      "source": [
        "리스트 관련 함수"
      ],
      "metadata": {
        "id": "xQZr4VwZWHIA"
      }
    },
    {
      "cell_type": "code",
      "source": [
        "# append : 리스트에 요소 추가\n",
        "a = []\n",
        "a.append(1)\n",
        "a.append(2)\n",
        "a.append(3)\n",
        "a"
      ],
      "metadata": {
        "colab": {
          "base_uri": "https://localhost:8080/"
        },
        "id": "gjqf3geyV9Fh",
        "outputId": "fc9cfcf2-30d8-4ce9-c945-38de2a90354e"
      },
      "execution_count": 18,
      "outputs": [
        {
          "output_type": "execute_result",
          "data": {
            "text/plain": [
              "[1, 2, 3]"
            ]
          },
          "metadata": {},
          "execution_count": 18
        }
      ]
    },
    {
      "cell_type": "code",
      "source": [
        "a.append(['a', 'b'])    # 자료형도 추가 가능\n",
        "a"
      ],
      "metadata": {
        "colab": {
          "base_uri": "https://localhost:8080/"
        },
        "id": "xU_eVkwkWXo_",
        "outputId": "34316ff9-c8ff-45f0-f51b-2fd7d5d0e0f3"
      },
      "execution_count": 19,
      "outputs": [
        {
          "output_type": "execute_result",
          "data": {
            "text/plain": [
              "[1, 2, 3, ['a', 'b']]"
            ]
          },
          "metadata": {},
          "execution_count": 19
        }
      ]
    },
    {
      "cell_type": "code",
      "source": [
        "# sort : 리스트 정렬\n",
        "a = [2, 52, 4, 20]\n",
        "a.sort()\n",
        "a"
      ],
      "metadata": {
        "colab": {
          "base_uri": "https://localhost:8080/"
        },
        "id": "IIvsayoHWgaX",
        "outputId": "59774cc6-39c7-4850-c112-af69c8a3d070"
      },
      "execution_count": 20,
      "outputs": [
        {
          "output_type": "execute_result",
          "data": {
            "text/plain": [
              "[2, 4, 20, 52]"
            ]
          },
          "metadata": {},
          "execution_count": 20
        }
      ]
    },
    {
      "cell_type": "code",
      "source": [
        "b = [10, 50, 20, 60]\n",
        "print(sorted(b))    # .sort()와 sorted() 모두 정렬을 하지만 sorted()는 객체 자체를 바꾸지 않음\n",
        "print(b)"
      ],
      "metadata": {
        "colab": {
          "base_uri": "https://localhost:8080/"
        },
        "id": "Zd0gsJdPWsOX",
        "outputId": "65f271c2-126d-4036-bf9d-6800e797178f"
      },
      "execution_count": 22,
      "outputs": [
        {
          "output_type": "stream",
          "name": "stdout",
          "text": [
            "[10, 20, 50, 60]\n",
            "[10, 50, 20, 60]\n"
          ]
        }
      ]
    },
    {
      "cell_type": "code",
      "source": [
        "# reverse : 리스트 뒤집기\n",
        "a = [10, 20, 30]\n",
        "a.reverse()\n",
        "a"
      ],
      "metadata": {
        "colab": {
          "base_uri": "https://localhost:8080/"
        },
        "id": "et-RPIz3W1hH",
        "outputId": "d284c6c1-6a5c-44e1-abcb-b022b10107ab"
      },
      "execution_count": 23,
      "outputs": [
        {
          "output_type": "execute_result",
          "data": {
            "text/plain": [
              "[30, 20, 10]"
            ]
          },
          "metadata": {},
          "execution_count": 23
        }
      ]
    },
    {
      "cell_type": "code",
      "source": [
        "b = [9, 2, 5, 3, 4, 8, 6, 1, 7]\n",
        "b.sort()    # 오름차순 정렬\n",
        "print(b)\n",
        "b.reverse() # 내림차순 정렬이 됨\n",
        "print(b)"
      ],
      "metadata": {
        "colab": {
          "base_uri": "https://localhost:8080/"
        },
        "id": "VpdBjzVxXhln",
        "outputId": "6e37f738-07c3-4ff1-bf1e-172d524c9070"
      },
      "execution_count": 25,
      "outputs": [
        {
          "output_type": "stream",
          "name": "stdout",
          "text": [
            "[1, 2, 3, 4, 5, 6, 7, 8, 9]\n",
            "[9, 8, 7, 6, 5, 4, 3, 2, 1]\n"
          ]
        }
      ]
    },
    {
      "cell_type": "code",
      "source": [
        "# index : 인덱스 반환\n",
        "a = [10, 20, 30]\n",
        "a.index(20)"
      ],
      "metadata": {
        "colab": {
          "base_uri": "https://localhost:8080/"
        },
        "id": "yRrBWg3cXzdP",
        "outputId": "aa60119a-d5f2-40e8-b382-f7f3f4536b44"
      },
      "execution_count": 26,
      "outputs": [
        {
          "output_type": "execute_result",
          "data": {
            "text/plain": [
              "1"
            ]
          },
          "metadata": {},
          "execution_count": 26
        }
      ]
    },
    {
      "cell_type": "code",
      "source": [
        "a.index(0)  # 없는 값을 쓰면 오류 발생"
      ],
      "metadata": {
        "colab": {
          "base_uri": "https://localhost:8080/",
          "height": 147
        },
        "id": "T0MZAgj8YJI3",
        "outputId": "3034464c-5f60-474e-ca00-8fd5af64362c"
      },
      "execution_count": 27,
      "outputs": [
        {
          "output_type": "error",
          "ename": "ValueError",
          "evalue": "0 is not in list",
          "traceback": [
            "\u001b[0;31m---------------------------------------------------------------------------\u001b[0m",
            "\u001b[0;31mValueError\u001b[0m                                Traceback (most recent call last)",
            "\u001b[0;32m<ipython-input-27-857e7ed487b2>\u001b[0m in \u001b[0;36m<cell line: 0>\u001b[0;34m()\u001b[0m\n\u001b[0;32m----> 1\u001b[0;31m \u001b[0ma\u001b[0m\u001b[0;34m.\u001b[0m\u001b[0mindex\u001b[0m\u001b[0;34m(\u001b[0m\u001b[0;36m0\u001b[0m\u001b[0;34m)\u001b[0m  \u001b[0;31m# 없는 값을 쓰면 오류 발생\u001b[0m\u001b[0;34m\u001b[0m\u001b[0;34m\u001b[0m\u001b[0m\n\u001b[0m",
            "\u001b[0;31mValueError\u001b[0m: 0 is not in list"
          ]
        }
      ]
    },
    {
      "cell_type": "code",
      "source": [
        "# insert : 요소 삽입\n",
        "# insert(a, b)는 a번째 위치에 b를 집어넣는다는 의미\n",
        "\n",
        "a = [1, 2, 4, 5]\n",
        "a.insert(2, 3)\n",
        "a"
      ],
      "metadata": {
        "colab": {
          "base_uri": "https://localhost:8080/"
        },
        "id": "ln_FiQVsYR3Y",
        "outputId": "d9f8ec3e-ebe0-4897-f8f9-bdf896a75b99"
      },
      "execution_count": 28,
      "outputs": [
        {
          "output_type": "execute_result",
          "data": {
            "text/plain": [
              "[1, 2, 3, 4, 5]"
            ]
          },
          "metadata": {},
          "execution_count": 28
        }
      ]
    },
    {
      "cell_type": "code",
      "source": [
        "# remove : 요소 제거\n",
        "a = [0, 10, 20, 30]\n",
        "a.remove(0)\n",
        "a"
      ],
      "metadata": {
        "colab": {
          "base_uri": "https://localhost:8080/"
        },
        "id": "zR2IVXmIY0Jv",
        "outputId": "54bdc651-1f0e-43bc-d942-a011fc0dde3f"
      },
      "execution_count": 29,
      "outputs": [
        {
          "output_type": "execute_result",
          "data": {
            "text/plain": [
              "[10, 20, 30]"
            ]
          },
          "metadata": {},
          "execution_count": 29
        }
      ]
    },
    {
      "cell_type": "code",
      "source": [
        "# remove(x)는 첫 번째로 나오는 x를 삭제하는 함수\n",
        "a = [1, 2, 3, 2, 1]\n",
        "a.remove(2)\n",
        "print(a)\n",
        "a.remove(2)\n",
        "print(a)"
      ],
      "metadata": {
        "colab": {
          "base_uri": "https://localhost:8080/"
        },
        "id": "dyvSFV07ZKt3",
        "outputId": "2af916b9-ab91-4c1b-c1e0-4136a8cc6e24"
      },
      "execution_count": 31,
      "outputs": [
        {
          "output_type": "stream",
          "name": "stdout",
          "text": [
            "[1, 3, 2, 1]\n",
            "[1, 3, 1]\n"
          ]
        }
      ]
    },
    {
      "cell_type": "code",
      "source": [
        "# pop : 요소를 리턴하고 삭제\n",
        "a = [0, 1, 2, 3, 4, 5]\n",
        "a.pop()   # () 괄호 안에 넣지 않으면 맨 마지막 요소 리턴 후 삭제\n",
        "print(a)\n",
        "a.pop(0)  # .pop(x)이면 x번째 요소 리턴 후 삭제\n",
        "print(a)"
      ],
      "metadata": {
        "colab": {
          "base_uri": "https://localhost:8080/"
        },
        "id": "RcZsQCEEZYGn",
        "outputId": "b632da0e-5dac-476f-ff8e-366181d615c1"
      },
      "execution_count": 32,
      "outputs": [
        {
          "output_type": "stream",
          "name": "stdout",
          "text": [
            "[0, 1, 2, 3, 4]\n",
            "[1, 2, 3, 4]\n"
          ]
        }
      ]
    },
    {
      "cell_type": "code",
      "source": [
        "# count : 요소 개수 세기\n",
        "# .count(x) : x의 개수를 셈\n",
        "\n",
        "a = [1, 2, 3, 2, 1]\n",
        "a.count(1)"
      ],
      "metadata": {
        "colab": {
          "base_uri": "https://localhost:8080/"
        },
        "id": "YQMvqV0RaGF_",
        "outputId": "ac9c00ba-176b-47c1-b8fe-a2e0323b1ede"
      },
      "execution_count": 33,
      "outputs": [
        {
          "output_type": "execute_result",
          "data": {
            "text/plain": [
              "2"
            ]
          },
          "metadata": {},
          "execution_count": 33
        }
      ]
    },
    {
      "cell_type": "code",
      "source": [
        "# extend : 리스트 확장\n",
        "# .extend(x) : x는 리스트만 올 수 있고, 원래의 리스트에 x를 더함\n",
        "\n",
        "a = [1, 2, 3]\n",
        "b = [10, 20, 30]\n",
        "a.extend([4, 5])\n",
        "print(a)\n",
        "print(a.extend(b))\n",
        "print(a)"
      ],
      "metadata": {
        "colab": {
          "base_uri": "https://localhost:8080/"
        },
        "id": "ms-LJmLDaj6G",
        "outputId": "ac8a4073-728a-4772-e29b-baea72d33419"
      },
      "execution_count": 34,
      "outputs": [
        {
          "output_type": "stream",
          "name": "stdout",
          "text": [
            "[1, 2, 3, 4, 5]\n",
            "None\n",
            "[1, 2, 3, 4, 5, 10, 20, 30]\n"
          ]
        }
      ]
    },
    {
      "cell_type": "code",
      "source": [
        "# a.extend([4, 5])는 a += [4, 5]와 동일\n",
        "a = [1, 2, 3]\n",
        "a.extend([4, 5])\n",
        "print(a)\n",
        "\n",
        "a = [1, 2, 3]\n",
        "a += [4, 5]\n",
        "print(a)"
      ],
      "metadata": {
        "colab": {
          "base_uri": "https://localhost:8080/"
        },
        "id": "FbiflcmFbI6W",
        "outputId": "c4001c50-9867-478e-9296-112d8c0f5c38"
      },
      "execution_count": 35,
      "outputs": [
        {
          "output_type": "stream",
          "name": "stdout",
          "text": [
            "[1, 2, 3, 4, 5]\n",
            "[1, 2, 3, 4, 5]\n"
          ]
        }
      ]
    }
  ]
}