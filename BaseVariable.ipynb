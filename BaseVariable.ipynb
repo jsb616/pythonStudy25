{
  "nbformat": 4,
  "nbformat_minor": 0,
  "metadata": {
    "colab": {
      "provenance": [],
      "authorship_tag": "ABX9TyMOMedC4AOtYcWKBXaHn1Pa",
      "include_colab_link": true
    },
    "kernelspec": {
      "name": "python3",
      "display_name": "Python 3"
    },
    "language_info": {
      "name": "python"
    }
  },
  "cells": [
    {
      "cell_type": "markdown",
      "metadata": {
        "id": "view-in-github",
        "colab_type": "text"
      },
      "source": [
        "<a href=\"https://colab.research.google.com/github/jsb616/pythonStudy25/blob/master/BaseVariable.ipynb\" target=\"_parent\"><img src=\"https://colab.research.google.com/assets/colab-badge.svg\" alt=\"Open In Colab\"/></a>"
      ]
    },
    {
      "cell_type": "markdown",
      "source": [
        "변수이름 = 변수에저장할값"
      ],
      "metadata": {
        "id": "BXyBhGIs91Hp"
      }
    },
    {
      "cell_type": "code",
      "execution_count": 1,
      "metadata": {
        "colab": {
          "base_uri": "https://localhost:8080/"
        },
        "id": "IN2E0k7A9koX",
        "outputId": "327cc551-7065-414c-8fa1-4ad88e46f5a7"
      },
      "outputs": [
        {
          "output_type": "execute_result",
          "data": {
            "text/plain": [
              "10750856"
            ]
          },
          "metadata": {},
          "execution_count": 1
        }
      ],
      "source": [
        "a = 1   # 1값을 가지는 객체가 힙에 저장되고 그 주소 값을 변수 a가 스택에서 저장해 가리키게 됨\n",
        "id(a)"
      ]
    },
    {
      "cell_type": "code",
      "source": [
        "# 복사하면\n",
        "a = [1, 2, 3]\n",
        "b = a\n",
        "\n",
        "print(id(a))\n",
        "print(id(b))  # a와 b의 주소가 같음"
      ],
      "metadata": {
        "colab": {
          "base_uri": "https://localhost:8080/"
        },
        "id": "OlkTGK6W-Nvr",
        "outputId": "43f400b0-c442-46e7-f2a6-744a22981a32"
      },
      "execution_count": 2,
      "outputs": [
        {
          "output_type": "stream",
          "name": "stdout",
          "text": [
            "133511504500288\n",
            "133511504500288\n"
          ]
        }
      ]
    },
    {
      "cell_type": "code",
      "source": [
        "a is b    # a와 b가 가리키는 객체가 같다"
      ],
      "metadata": {
        "colab": {
          "base_uri": "https://localhost:8080/"
        },
        "id": "rXSRS2UF-uVC",
        "outputId": "3eabab32-d1a3-4206-f75d-dbefa36075f8"
      },
      "execution_count": 4,
      "outputs": [
        {
          "output_type": "execute_result",
          "data": {
            "text/plain": [
              "True"
            ]
          },
          "metadata": {},
          "execution_count": 4
        }
      ]
    },
    {
      "cell_type": "code",
      "source": [
        "# 그래서 a를 바꾸게 되면 b도 바뀜\n",
        "a[1] = 5\n",
        "print(a)\n",
        "print(b)"
      ],
      "metadata": {
        "colab": {
          "base_uri": "https://localhost:8080/"
        },
        "id": "t8rG_fXX-0zA",
        "outputId": "14e0064a-34f9-4c37-d7b3-8b7bff5547c3"
      },
      "execution_count": 5,
      "outputs": [
        {
          "output_type": "stream",
          "name": "stdout",
          "text": [
            "[1, 5, 3]\n",
            "[1, 5, 3]\n"
          ]
        }
      ]
    },
    {
      "cell_type": "markdown",
      "source": [
        "b 변수를 생성할 때 a 변수의 값을 가져오면서 다른 주소를 가리키도록 하는 방법\n",
        "\n",
        "1. [:] 이용\n",
        "2. copy 모듈 이용"
      ],
      "metadata": {
        "id": "mgL7XsOu_DJY"
      }
    },
    {
      "cell_type": "code",
      "source": [
        "# [:]\n",
        "a = [1, 2, 3]\n",
        "b = a[:]\n",
        "\n",
        "print(id(a))\n",
        "print(id(b))"
      ],
      "metadata": {
        "colab": {
          "base_uri": "https://localhost:8080/"
        },
        "id": "MyeSqTf2--9o",
        "outputId": "cd6647a4-99a5-4024-ad01-a9dcc41375a6"
      },
      "execution_count": 6,
      "outputs": [
        {
          "output_type": "stream",
          "name": "stdout",
          "text": [
            "133511504485376\n",
            "133511505125632\n"
          ]
        }
      ]
    },
    {
      "cell_type": "code",
      "source": [
        "# copy 모듈\n",
        "from copy import copy\n",
        "\n",
        "a = [4, 5, 6]\n",
        "b = copy(a)\n",
        "\n",
        "print(id(a))\n",
        "print(id(b))"
      ],
      "metadata": {
        "colab": {
          "base_uri": "https://localhost:8080/"
        },
        "id": "A3NcDfPD_Xwg",
        "outputId": "bafe5a1d-9f8f-418c-ac35-0bfb7f56e84e"
      },
      "execution_count": 7,
      "outputs": [
        {
          "output_type": "stream",
          "name": "stdout",
          "text": [
            "133511505185216\n",
            "133511505697472\n"
          ]
        }
      ]
    },
    {
      "cell_type": "markdown",
      "source": [
        "변수를 만드는 여러 가지 방법"
      ],
      "metadata": {
        "id": "SGnSmWAQ_rRo"
      }
    },
    {
      "cell_type": "code",
      "source": [
        "a, b = ('python', 'life')\n",
        "print(a)\n",
        "print(b)"
      ],
      "metadata": {
        "colab": {
          "base_uri": "https://localhost:8080/"
        },
        "id": "PHJyd3tO_l7g",
        "outputId": "3e883d20-a6f4-48a3-eaac-a654ab7d4f1b"
      },
      "execution_count": 9,
      "outputs": [
        {
          "output_type": "stream",
          "name": "stdout",
          "text": [
            "python\n",
            "life\n"
          ]
        }
      ]
    },
    {
      "cell_type": "code",
      "source": [
        "(a, b) = 'hello', 'world'\n",
        "print(a)\n",
        "print(b)"
      ],
      "metadata": {
        "colab": {
          "base_uri": "https://localhost:8080/"
        },
        "id": "XsuXQPkqCEcP",
        "outputId": "33ab0fc4-3531-446d-d1a2-0ff25a4338c5"
      },
      "execution_count": 10,
      "outputs": [
        {
          "output_type": "stream",
          "name": "stdout",
          "text": [
            "hello\n",
            "world\n"
          ]
        }
      ]
    },
    {
      "cell_type": "code",
      "source": [
        "# 튜플 말고 리스트도 가능\n",
        "[a, b] = ['python', 'life']\n",
        "print(a)\n",
        "print(b)"
      ],
      "metadata": {
        "colab": {
          "base_uri": "https://localhost:8080/"
        },
        "id": "6aiID7yICO0H",
        "outputId": "e85b7805-576f-4d79-82bd-75ff9fe83fcc"
      },
      "execution_count": 11,
      "outputs": [
        {
          "output_type": "stream",
          "name": "stdout",
          "text": [
            "python\n",
            "life\n"
          ]
        }
      ]
    },
    {
      "cell_type": "code",
      "source": [
        "# 여러 개의 변수에 같은 값을 대입도 가능\n",
        "a = b = 'python'\n",
        "print(a, id(a))\n",
        "print(b, id(b))"
      ],
      "metadata": {
        "colab": {
          "base_uri": "https://localhost:8080/"
        },
        "id": "OZD2Tn8xCdOX",
        "outputId": "b7469603-193c-4356-aed8-b4777860d808"
      },
      "execution_count": 12,
      "outputs": [
        {
          "output_type": "stream",
          "name": "stdout",
          "text": [
            "python 133512889681648\n",
            "python 133512889681648\n"
          ]
        }
      ]
    },
    {
      "cell_type": "code",
      "source": [
        "# 두 변수의 값을 바꾸기\n",
        "a = 3\n",
        "b = 5\n",
        "a, b = b, a\n",
        "print(a)\n",
        "print(b)"
      ],
      "metadata": {
        "colab": {
          "base_uri": "https://localhost:8080/"
        },
        "id": "BHT0ocIfCpFf",
        "outputId": "a3cbe4a7-351c-4e42-8528-17f060d4bf9e"
      },
      "execution_count": 13,
      "outputs": [
        {
          "output_type": "stream",
          "name": "stdout",
          "text": [
            "5\n",
            "3\n"
          ]
        }
      ]
    }
  ]
}