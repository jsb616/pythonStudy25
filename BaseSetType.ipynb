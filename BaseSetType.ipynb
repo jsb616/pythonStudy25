{
  "nbformat": 4,
  "nbformat_minor": 0,
  "metadata": {
    "colab": {
      "provenance": [],
      "authorship_tag": "ABX9TyNudEj/4r63YbdcrBO9Ag3m",
      "include_colab_link": true
    },
    "kernelspec": {
      "name": "python3",
      "display_name": "Python 3"
    },
    "language_info": {
      "name": "python"
    }
  },
  "cells": [
    {
      "cell_type": "markdown",
      "metadata": {
        "id": "view-in-github",
        "colab_type": "text"
      },
      "source": [
        "<a href=\"https://colab.research.google.com/github/jsb616/pythonStudy25/blob/master/BaseSetType.ipynb\" target=\"_parent\"><img src=\"https://colab.research.google.com/assets/colab-badge.svg\" alt=\"Open In Colab\"/></a>"
      ]
    },
    {
      "cell_type": "markdown",
      "source": [
        "집합 만들기"
      ],
      "metadata": {
        "id": "VNeG0PEY6wua"
      }
    },
    {
      "cell_type": "code",
      "execution_count": null,
      "metadata": {
        "colab": {
          "base_uri": "https://localhost:8080/"
        },
        "id": "Nj3MWopQ0eyl",
        "outputId": "86ecdfb0-5b75-4228-d89d-d793d23d38d7"
      },
      "outputs": [
        {
          "output_type": "execute_result",
          "data": {
            "text/plain": [
              "{1, 2, 3}"
            ]
          },
          "metadata": {},
          "execution_count": 1
        }
      ],
      "source": [
        "s1 = set([1, 2, 3])\n",
        "s1"
      ]
    },
    {
      "cell_type": "code",
      "source": [
        "s2 = set('Hello')   # 집합은 중복을 허용하지 않음\n",
        "s2"
      ],
      "metadata": {
        "colab": {
          "base_uri": "https://localhost:8080/"
        },
        "id": "lX1VVPvZ636K",
        "outputId": "f041f61a-e579-4017-9093-f358058e83c4"
      },
      "execution_count": null,
      "outputs": [
        {
          "output_type": "execute_result",
          "data": {
            "text/plain": [
              "{'H', 'e', 'l', 'o'}"
            ]
          },
          "metadata": {},
          "execution_count": 2
        }
      ]
    },
    {
      "cell_type": "markdown",
      "source": [
        "집합 특징\n",
        "\n",
        "1. 중복을 허용하지 않는다.\n",
        "2. 순서가 없다. -> 인덱싱을 지원하지 않음"
      ],
      "metadata": {
        "id": "b3fmIJLi7E4R"
      }
    },
    {
      "cell_type": "markdown",
      "source": [
        "교집합"
      ],
      "metadata": {
        "id": "QEkaBd0Y7T0h"
      }
    },
    {
      "cell_type": "code",
      "source": [
        "s1 = set([1, 2, 3, 4, 5, 6])\n",
        "s2 = set([4, 5, 6, 7, 8, 9])\n",
        "\n",
        "print(s1 & s2)\n",
        "print(s1.intersection(s2))"
      ],
      "metadata": {
        "colab": {
          "base_uri": "https://localhost:8080/"
        },
        "id": "d34PtdQd7BLy",
        "outputId": "ce519a8c-cf4b-48f9-fe82-14726d7f2f62"
      },
      "execution_count": null,
      "outputs": [
        {
          "output_type": "stream",
          "name": "stdout",
          "text": [
            "{4, 5, 6}\n",
            "{4, 5, 6}\n"
          ]
        }
      ]
    },
    {
      "cell_type": "markdown",
      "source": [
        "합집합"
      ],
      "metadata": {
        "id": "omtjzNMI7iwB"
      }
    },
    {
      "cell_type": "code",
      "source": [
        "s1 = set([1, 2, 3, 4, 5, 6])\n",
        "s2 = set([4, 5, 6, 7, 8, 9])\n",
        "\n",
        "print(s1 | s2)\n",
        "print(s1.union(s2))"
      ],
      "metadata": {
        "colab": {
          "base_uri": "https://localhost:8080/"
        },
        "id": "f_3ql-4l7hUh",
        "outputId": "f1bb1413-a434-419a-b1aa-9b15f9de83e1"
      },
      "execution_count": null,
      "outputs": [
        {
          "output_type": "stream",
          "name": "stdout",
          "text": [
            "{1, 2, 3, 4, 5, 6, 7, 8, 9}\n",
            "{1, 2, 3, 4, 5, 6, 7, 8, 9}\n"
          ]
        }
      ]
    },
    {
      "cell_type": "markdown",
      "source": [
        "차집합"
      ],
      "metadata": {
        "id": "-d_lR0cq7rjZ"
      }
    },
    {
      "cell_type": "code",
      "source": [
        "s1 = set([1, 2, 3, 4, 5, 6])\n",
        "s2 = set([4, 5, 6, 7, 8, 9])\n",
        "\n",
        "print(s1 - s2)\n",
        "print(s2 - s1)\n",
        "print(s1.difference(s2))\n",
        "print(s2.difference(s1))"
      ],
      "metadata": {
        "colab": {
          "base_uri": "https://localhost:8080/"
        },
        "id": "vtIY2OT27qnA",
        "outputId": "5f295f1c-5ee5-4877-ab0e-91f083df9c4d"
      },
      "execution_count": null,
      "outputs": [
        {
          "output_type": "stream",
          "name": "stdout",
          "text": [
            "{1, 2, 3}\n",
            "{8, 9, 7}\n",
            "{1, 2, 3}\n",
            "{8, 9, 7}\n"
          ]
        }
      ]
    },
    {
      "cell_type": "markdown",
      "source": [
        "집합 관련 함수"
      ],
      "metadata": {
        "id": "02hvaeaB75sQ"
      }
    },
    {
      "cell_type": "code",
      "source": [
        "# add : 값 1개 추가\n",
        "s1 = set([1, 2, 3])\n",
        "s1.add(4)\n",
        "s1"
      ],
      "metadata": {
        "colab": {
          "base_uri": "https://localhost:8080/"
        },
        "id": "YPknbgZ_71RA",
        "outputId": "efd756af-6a4b-4f02-cd75-4b61fa8df6d2"
      },
      "execution_count": null,
      "outputs": [
        {
          "output_type": "execute_result",
          "data": {
            "text/plain": [
              "{1, 2, 3, 4}"
            ]
          },
          "metadata": {},
          "execution_count": 6
        }
      ]
    },
    {
      "cell_type": "code",
      "source": [
        "# update : 값 여러 개 추가\n",
        "s1 = set([1, 2, 3])\n",
        "s1.update([4, 5])\n",
        "s1"
      ],
      "metadata": {
        "colab": {
          "base_uri": "https://localhost:8080/"
        },
        "id": "3m2xOCKo8DUA",
        "outputId": "ea919730-cde5-4e7c-ea6a-bd6b9697fc30"
      },
      "execution_count": null,
      "outputs": [
        {
          "output_type": "execute_result",
          "data": {
            "text/plain": [
              "{1, 2, 3, 4, 5}"
            ]
          },
          "metadata": {},
          "execution_count": 7
        }
      ]
    },
    {
      "cell_type": "code",
      "source": [
        "# remove : 특정 값 삭제\n",
        "s1 = set([1, 2, 3, 5])\n",
        "s1.remove(5)\n",
        "s1"
      ],
      "metadata": {
        "colab": {
          "base_uri": "https://localhost:8080/"
        },
        "id": "ZCg42hCR8Kv4",
        "outputId": "c63e8766-19df-4143-88b1-b3cd84b28ff6"
      },
      "execution_count": null,
      "outputs": [
        {
          "output_type": "execute_result",
          "data": {
            "text/plain": [
              "{1, 2, 3}"
            ]
          },
          "metadata": {},
          "execution_count": 8
        }
      ]
    }
  ]
}