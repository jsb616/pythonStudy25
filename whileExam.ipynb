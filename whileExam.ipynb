{
  "nbformat": 4,
  "nbformat_minor": 0,
  "metadata": {
    "colab": {
      "provenance": [],
      "authorship_tag": "ABX9TyMAvtPA6iDy08y3qdd5KBgq",
      "include_colab_link": true
    },
    "kernelspec": {
      "name": "python3",
      "display_name": "Python 3"
    },
    "language_info": {
      "name": "python"
    }
  },
  "cells": [
    {
      "cell_type": "markdown",
      "metadata": {
        "id": "view-in-github",
        "colab_type": "text"
      },
      "source": [
        "<a href=\"https://colab.research.google.com/github/jsb616/pythonStudy25/blob/master/whileExam.ipynb\" target=\"_parent\"><img src=\"https://colab.research.google.com/assets/colab-badge.svg\" alt=\"Open In Colab\"/></a>"
      ]
    },
    {
      "cell_type": "code",
      "execution_count": 12,
      "metadata": {
        "colab": {
          "base_uri": "https://localhost:8080/"
        },
        "id": "y9u_zdOYohi6",
        "outputId": "9387e210-5252-4491-9e89-23a47aa126dd"
      },
      "outputs": [
        {
          "output_type": "stream",
          "name": "stdout",
          "text": [
            "\n",
            "    1. 성적 추가\n",
            "    2. 성적 확인\n",
            "    3. 성적 수정\n",
            "    4. 성적 삭제\n",
            "    5. 프로그램 종료\n",
            "    \n",
            "번호 입력(1~5) : 1\n",
            "======================================================================\n",
            "성적을 입력합니다.\n",
            "국어 : 90\n",
            "영어 : 80\n",
            "수학 : 70\n",
            "파이썬 : 60\n",
            "\n",
            "    1. 성적 추가\n",
            "    2. 성적 확인\n",
            "    3. 성적 수정\n",
            "    4. 성적 삭제\n",
            "    5. 프로그램 종료\n",
            "    \n",
            "번호 입력(1~5) : 2\n",
            "======================================================================\n",
            "성적을 확인합니다.\n",
            "국어:90 \t 영어:80 \t 수학:70 \t 파이썬:60\n",
            "\n",
            "    1. 성적 추가\n",
            "    2. 성적 확인\n",
            "    3. 성적 수정\n",
            "    4. 성적 삭제\n",
            "    5. 프로그램 종료\n",
            "    \n",
            "번호 입력(1~5) : 3\n",
            "======================================================================\n",
            "성적을 수정합니다.\n",
            "국어 : 80\n",
            "영어 : 80\n",
            "수학 : 80\n",
            "파이썬 : 80\n",
            "\n",
            "    1. 성적 추가\n",
            "    2. 성적 확인\n",
            "    3. 성적 수정\n",
            "    4. 성적 삭제\n",
            "    5. 프로그램 종료\n",
            "    \n",
            "번호 입력(1~5) : 4\n",
            "======================================================================\n",
            "성적을 삭제합니다.\n",
            "\n",
            "    1. 성적 추가\n",
            "    2. 성적 확인\n",
            "    3. 성적 수정\n",
            "    4. 성적 삭제\n",
            "    5. 프로그램 종료\n",
            "    \n",
            "번호 입력(1~5) : 2\n",
            "======================================================================\n",
            "성적을 확인합니다.\n",
            "국어: \t 영어: \t 수학: \t 파이썬:\n",
            "\n",
            "    1. 성적 추가\n",
            "    2. 성적 확인\n",
            "    3. 성적 수정\n",
            "    4. 성적 삭제\n",
            "    5. 프로그램 종료\n",
            "    \n",
            "번호 입력(1~5) : 5\n",
            "======================================================================\n",
            "프로그램을 종료합니다.\n"
          ]
        }
      ],
      "source": [
        "# 1회용이 아닌 반복문을 활용해서 성적처리 프로그램을 만들어보자.\n",
        "# 성적에 CRUD를 구현한다.\n",
        "# 1번 메뉴를 선택하면 성적을 입력한다.\n",
        "# 2번 메뉴를 선택하면 성적을 확인한다.\n",
        "# 3번 메뉴를 선택하면 성적은 수정한다.\n",
        "# 4번 메뉴를 선택하면 성적을 삭제한다.\n",
        "# 5번 메뉴를 선택하면 프로그램을 종료한다.\n",
        "\n",
        "run = True  # while문의 반복을 처리하기 위함. False로 바뀌면 반복을 종료함.\n",
        "while run:\n",
        "    prompt = \"\"\"\n",
        "    1. 성적 추가\n",
        "    2. 성적 확인\n",
        "    3. 성적 수정\n",
        "    4. 성적 삭제\n",
        "    5. 프로그램 종료\n",
        "    \"\"\"\n",
        "    print(prompt)\n",
        "\n",
        "    select = int(input(\"번호 입력(1~5) : \"))\n",
        "    print(\"=\" * 70)\n",
        "    if select == 1:\n",
        "        print(\"성적을 입력합니다.\")\n",
        "        kor = int(input(\"국어 : \"))\n",
        "        eng = int(input(\"영어 : \"))\n",
        "        mat = int(input(\"수학 : \"))\n",
        "        pyt = int(input(\"파이썬 : \"))\n",
        "    elif select == 2:\n",
        "        print(\"성적을 확인합니다.\")\n",
        "        print(f\"국어:{kor} \\t 영어:{eng} \\t 수학:{mat} \\t 파이썬:{pyt}\")\n",
        "    elif select == 3:\n",
        "        print(\"성적을 수정합니다.\")\n",
        "        kor = int(input(\"국어 : \"))\n",
        "        eng = int(input(\"영어 : \"))\n",
        "        mat = int(input(\"수학 : \"))\n",
        "        pyt = int(input(\"파이썬 : \"))\n",
        "    elif select == 4:\n",
        "        print(\"성적을 삭제합니다.\")\n",
        "        kor = ''\n",
        "        eng = ''\n",
        "        mat = ''\n",
        "        pyt = ''\n",
        "    elif select == 5:\n",
        "        print(\"프로그램을 종료합니다.\")\n",
        "        run = False\n",
        "    else:\n",
        "        print(\"잘못된 입력입니다.\")"
      ]
    }
  ]
}